{
 "cells": [
  {
   "cell_type": "markdown",
   "id": "ab1238ba",
   "metadata": {},
   "source": [
    "# Project 2 : Cosmetic Product Development"
   ]
  },
  {
   "cell_type": "markdown",
   "id": "0e2c56f5",
   "metadata": {},
   "source": [
    "### Ingredient Recommender System for Cosmetic Product Development"
   ]
  },
  {
   "cell_type": "markdown",
   "id": "2de31c0e",
   "metadata": {},
   "source": [
    "Import all the packages"
   ]
  },
  {
   "cell_type": "code",
   "execution_count": 251,
   "id": "7ba50e3c",
   "metadata": {},
   "outputs": [],
   "source": [
    "import pandas as pd\n",
    "import seaborn as sns\n",
    "import re\n",
    "import matplotlib.pyplot as plt\n",
    "import category_encoders as ce\n",
    "import numpy as np\n",
    "from sklearn.tree import DecisionTreeRegressor, plot_tree\n",
    "from sklearn.model_selection import train_test_split\n",
    "from sklearn.metrics import mean_squared_error, mean_absolute_error, r2_score\n",
    "from xgboost import XGBClassifier\n",
    "from sklearn.metrics import roc_curve, roc_auc_score, auc"
   ]
  },
  {
   "cell_type": "code",
   "execution_count": 190,
   "id": "0c3097c8",
   "metadata": {},
   "outputs": [
    {
     "name": "stderr",
     "output_type": "stream",
     "text": [
      "/var/folders/w8/dyd2vsws19s7k0p9f9m03yg80000gn/T/ipykernel_74179/1733070675.py:1: DtypeWarning: Columns (30,73,74,75,76,77,78,79,80,81,82,83,84,85,86,87,88,89,90,95,96) have mixed types. Specify dtype option on import or set low_memory=False.\n",
      "  df = pd.read_csv('/Users/tj/Downloads/amazon_facial_product.csv')\n"
     ]
    }
   ],
   "source": [
    "df = pd.read_csv('/Users/tj/Downloads/amazon_facial_product.csv')"
   ]
  },
  {
   "cell_type": "code",
   "execution_count": 191,
   "id": "da41d3d8",
   "metadata": {},
   "outputs": [
    {
     "data": {
      "text/html": [
       "<div>\n",
       "<style scoped>\n",
       "    .dataframe tbody tr th:only-of-type {\n",
       "        vertical-align: middle;\n",
       "    }\n",
       "\n",
       "    .dataframe tbody tr th {\n",
       "        vertical-align: top;\n",
       "    }\n",
       "\n",
       "    .dataframe thead th {\n",
       "        text-align: right;\n",
       "    }\n",
       "</style>\n",
       "<table border=\"1\" class=\"dataframe\">\n",
       "  <thead>\n",
       "    <tr style=\"text-align: right;\">\n",
       "      <th></th>\n",
       "      <th>answeredQuestions</th>\n",
       "      <th>asin</th>\n",
       "      <th>bestsellerRanks</th>\n",
       "      <th>bestsellerRanks/0/category</th>\n",
       "      <th>bestsellerRanks/0/rank</th>\n",
       "      <th>bestsellerRanks/0/url</th>\n",
       "      <th>bestsellerRanks/1/category</th>\n",
       "      <th>bestsellerRanks/1/rank</th>\n",
       "      <th>bestsellerRanks/1/url</th>\n",
       "      <th>bestsellerRanks/2/category</th>\n",
       "      <th>...</th>\n",
       "      <th>variantAsins/26</th>\n",
       "      <th>variantAsins/27</th>\n",
       "      <th>variantAsins/28</th>\n",
       "      <th>variantAsins/29</th>\n",
       "      <th>variantAttributes/0/key</th>\n",
       "      <th>variantAttributes/0/value</th>\n",
       "      <th>variantAttributes/1/key</th>\n",
       "      <th>variantAttributes/1/value</th>\n",
       "      <th>variantAttributes/2/key</th>\n",
       "      <th>variantAttributes/2/value</th>\n",
       "    </tr>\n",
       "  </thead>\n",
       "  <tbody>\n",
       "    <tr>\n",
       "      <th>0</th>\n",
       "      <td>601.0</td>\n",
       "      <td>B014PGEEO2</td>\n",
       "      <td>NaN</td>\n",
       "      <td>Beauty &amp; Personal Care</td>\n",
       "      <td>308.0</td>\n",
       "      <td>https://www.amazon.com/gp/bestsellers/beauty/r...</td>\n",
       "      <td>Facial Serums</td>\n",
       "      <td>8.0</td>\n",
       "      <td>https://www.amazon.com/gp/bestsellers/beauty/7...</td>\n",
       "      <td>NaN</td>\n",
       "      <td>...</td>\n",
       "      <td>NaN</td>\n",
       "      <td>NaN</td>\n",
       "      <td>NaN</td>\n",
       "      <td>NaN</td>\n",
       "      <td>NaN</td>\n",
       "      <td>NaN</td>\n",
       "      <td>NaN</td>\n",
       "      <td>NaN</td>\n",
       "      <td>NaN</td>\n",
       "      <td>NaN</td>\n",
       "    </tr>\n",
       "    <tr>\n",
       "      <th>1</th>\n",
       "      <td>83.0</td>\n",
       "      <td>B01N4VMLGA</td>\n",
       "      <td>NaN</td>\n",
       "      <td>Beauty &amp; Personal Care</td>\n",
       "      <td>26283.0</td>\n",
       "      <td>https://www.amazon.com/gp/bestsellers/beauty/r...</td>\n",
       "      <td>Facial Serums</td>\n",
       "      <td>511.0</td>\n",
       "      <td>https://www.amazon.com/gp/bestsellers/beauty/7...</td>\n",
       "      <td>NaN</td>\n",
       "      <td>...</td>\n",
       "      <td>NaN</td>\n",
       "      <td>NaN</td>\n",
       "      <td>NaN</td>\n",
       "      <td>NaN</td>\n",
       "      <td>Pattern Name</td>\n",
       "      <td>Hyaluronic Acid Serum</td>\n",
       "      <td>NaN</td>\n",
       "      <td>NaN</td>\n",
       "      <td>NaN</td>\n",
       "      <td>NaN</td>\n",
       "    </tr>\n",
       "    <tr>\n",
       "      <th>2</th>\n",
       "      <td>5.0</td>\n",
       "      <td>B07TLZ65PZ</td>\n",
       "      <td>NaN</td>\n",
       "      <td>Beauty &amp; Personal Care</td>\n",
       "      <td>21593.0</td>\n",
       "      <td>https://www.amazon.com/gp/bestsellers/beauty/r...</td>\n",
       "      <td>Facial Serums</td>\n",
       "      <td>415.0</td>\n",
       "      <td>https://www.amazon.com/gp/bestsellers/beauty/7...</td>\n",
       "      <td>NaN</td>\n",
       "      <td>...</td>\n",
       "      <td>NaN</td>\n",
       "      <td>NaN</td>\n",
       "      <td>NaN</td>\n",
       "      <td>NaN</td>\n",
       "      <td>Color</td>\n",
       "      <td>Hyaluronic &amp; Retinol</td>\n",
       "      <td>NaN</td>\n",
       "      <td>NaN</td>\n",
       "      <td>NaN</td>\n",
       "      <td>NaN</td>\n",
       "    </tr>\n",
       "    <tr>\n",
       "      <th>3</th>\n",
       "      <td>670.0</td>\n",
       "      <td>B01BT02Q88</td>\n",
       "      <td>NaN</td>\n",
       "      <td>Beauty &amp; Personal Care</td>\n",
       "      <td>358.0</td>\n",
       "      <td>https://www.amazon.com/gp/bestsellers/beauty/r...</td>\n",
       "      <td>Facial Serums</td>\n",
       "      <td>10.0</td>\n",
       "      <td>https://www.amazon.com/gp/bestsellers/beauty/7...</td>\n",
       "      <td>NaN</td>\n",
       "      <td>...</td>\n",
       "      <td>NaN</td>\n",
       "      <td>NaN</td>\n",
       "      <td>NaN</td>\n",
       "      <td>NaN</td>\n",
       "      <td>Scent</td>\n",
       "      <td>Regular</td>\n",
       "      <td>Size</td>\n",
       "      <td>1 Fl Oz (Pack of 1)</td>\n",
       "      <td>NaN</td>\n",
       "      <td>NaN</td>\n",
       "    </tr>\n",
       "    <tr>\n",
       "      <th>4</th>\n",
       "      <td>NaN</td>\n",
       "      <td>B09KMZG5GG</td>\n",
       "      <td>NaN</td>\n",
       "      <td>Beauty &amp; Personal Care</td>\n",
       "      <td>81407.0</td>\n",
       "      <td>https://www.amazon.com/gp/bestsellers/beauty/r...</td>\n",
       "      <td>Facial Serums</td>\n",
       "      <td>1489.0</td>\n",
       "      <td>https://www.amazon.com/gp/bestsellers/beauty/7...</td>\n",
       "      <td>NaN</td>\n",
       "      <td>...</td>\n",
       "      <td>NaN</td>\n",
       "      <td>NaN</td>\n",
       "      <td>NaN</td>\n",
       "      <td>NaN</td>\n",
       "      <td>NaN</td>\n",
       "      <td>NaN</td>\n",
       "      <td>NaN</td>\n",
       "      <td>NaN</td>\n",
       "      <td>NaN</td>\n",
       "      <td>NaN</td>\n",
       "    </tr>\n",
       "    <tr>\n",
       "      <th>...</th>\n",
       "      <td>...</td>\n",
       "      <td>...</td>\n",
       "      <td>...</td>\n",
       "      <td>...</td>\n",
       "      <td>...</td>\n",
       "      <td>...</td>\n",
       "      <td>...</td>\n",
       "      <td>...</td>\n",
       "      <td>...</td>\n",
       "      <td>...</td>\n",
       "      <td>...</td>\n",
       "      <td>...</td>\n",
       "      <td>...</td>\n",
       "      <td>...</td>\n",
       "      <td>...</td>\n",
       "      <td>...</td>\n",
       "      <td>...</td>\n",
       "      <td>...</td>\n",
       "      <td>...</td>\n",
       "      <td>...</td>\n",
       "      <td>...</td>\n",
       "    </tr>\n",
       "    <tr>\n",
       "      <th>9977</th>\n",
       "      <td>NaN</td>\n",
       "      <td>B09GZT28TP</td>\n",
       "      <td>NaN</td>\n",
       "      <td>Beauty &amp; Personal Care</td>\n",
       "      <td>333573.0</td>\n",
       "      <td>https://www.amazon.com/gp/bestsellers/beauty/r...</td>\n",
       "      <td>Facial Serums</td>\n",
       "      <td>5856.0</td>\n",
       "      <td>https://www.amazon.com/gp/bestsellers/beauty/7...</td>\n",
       "      <td>NaN</td>\n",
       "      <td>...</td>\n",
       "      <td>NaN</td>\n",
       "      <td>NaN</td>\n",
       "      <td>NaN</td>\n",
       "      <td>NaN</td>\n",
       "      <td>NaN</td>\n",
       "      <td>NaN</td>\n",
       "      <td>NaN</td>\n",
       "      <td>NaN</td>\n",
       "      <td>NaN</td>\n",
       "      <td>NaN</td>\n",
       "    </tr>\n",
       "    <tr>\n",
       "      <th>9978</th>\n",
       "      <td>NaN</td>\n",
       "      <td>B0B76V92HH</td>\n",
       "      <td>NaN</td>\n",
       "      <td>NaN</td>\n",
       "      <td>NaN</td>\n",
       "      <td>NaN</td>\n",
       "      <td>NaN</td>\n",
       "      <td>NaN</td>\n",
       "      <td>NaN</td>\n",
       "      <td>NaN</td>\n",
       "      <td>...</td>\n",
       "      <td>NaN</td>\n",
       "      <td>NaN</td>\n",
       "      <td>NaN</td>\n",
       "      <td>NaN</td>\n",
       "      <td>NaN</td>\n",
       "      <td>NaN</td>\n",
       "      <td>NaN</td>\n",
       "      <td>NaN</td>\n",
       "      <td>NaN</td>\n",
       "      <td>NaN</td>\n",
       "    </tr>\n",
       "    <tr>\n",
       "      <th>9979</th>\n",
       "      <td>NaN</td>\n",
       "      <td>B0BPP948DN</td>\n",
       "      <td>NaN</td>\n",
       "      <td>NaN</td>\n",
       "      <td>NaN</td>\n",
       "      <td>NaN</td>\n",
       "      <td>NaN</td>\n",
       "      <td>NaN</td>\n",
       "      <td>NaN</td>\n",
       "      <td>NaN</td>\n",
       "      <td>...</td>\n",
       "      <td>NaN</td>\n",
       "      <td>NaN</td>\n",
       "      <td>NaN</td>\n",
       "      <td>NaN</td>\n",
       "      <td>Color</td>\n",
       "      <td>2PC</td>\n",
       "      <td>NaN</td>\n",
       "      <td>NaN</td>\n",
       "      <td>NaN</td>\n",
       "      <td>NaN</td>\n",
       "    </tr>\n",
       "    <tr>\n",
       "      <th>9980</th>\n",
       "      <td>NaN</td>\n",
       "      <td>B09XFL7MW1</td>\n",
       "      <td>NaN</td>\n",
       "      <td>Beauty &amp; Personal Care</td>\n",
       "      <td>715590.0</td>\n",
       "      <td>https://www.amazon.com/gp/bestsellers/beauty/r...</td>\n",
       "      <td>Facial Serums</td>\n",
       "      <td>11062.0</td>\n",
       "      <td>https://www.amazon.com/gp/bestsellers/beauty/7...</td>\n",
       "      <td>NaN</td>\n",
       "      <td>...</td>\n",
       "      <td>NaN</td>\n",
       "      <td>NaN</td>\n",
       "      <td>NaN</td>\n",
       "      <td>NaN</td>\n",
       "      <td>NaN</td>\n",
       "      <td>NaN</td>\n",
       "      <td>NaN</td>\n",
       "      <td>NaN</td>\n",
       "      <td>NaN</td>\n",
       "      <td>NaN</td>\n",
       "    </tr>\n",
       "    <tr>\n",
       "      <th>9981</th>\n",
       "      <td>NaN</td>\n",
       "      <td>B0BHTCF43H</td>\n",
       "      <td>NaN</td>\n",
       "      <td>Beauty &amp; Personal Care</td>\n",
       "      <td>916926.0</td>\n",
       "      <td>https://www.amazon.com/gp/bestsellers/beauty/r...</td>\n",
       "      <td>Facial Serums</td>\n",
       "      <td>13499.0</td>\n",
       "      <td>https://www.amazon.com/gp/bestsellers/beauty/7...</td>\n",
       "      <td>NaN</td>\n",
       "      <td>...</td>\n",
       "      <td>NaN</td>\n",
       "      <td>NaN</td>\n",
       "      <td>NaN</td>\n",
       "      <td>NaN</td>\n",
       "      <td>NaN</td>\n",
       "      <td>NaN</td>\n",
       "      <td>NaN</td>\n",
       "      <td>NaN</td>\n",
       "      <td>NaN</td>\n",
       "      <td>NaN</td>\n",
       "    </tr>\n",
       "  </tbody>\n",
       "</table>\n",
       "<p>9982 rows × 97 columns</p>\n",
       "</div>"
      ],
      "text/plain": [
       "      answeredQuestions        asin  bestsellerRanks  \\\n",
       "0                 601.0  B014PGEEO2              NaN   \n",
       "1                  83.0  B01N4VMLGA              NaN   \n",
       "2                   5.0  B07TLZ65PZ              NaN   \n",
       "3                 670.0  B01BT02Q88              NaN   \n",
       "4                   NaN  B09KMZG5GG              NaN   \n",
       "...                 ...         ...              ...   \n",
       "9977                NaN  B09GZT28TP              NaN   \n",
       "9978                NaN  B0B76V92HH              NaN   \n",
       "9979                NaN  B0BPP948DN              NaN   \n",
       "9980                NaN  B09XFL7MW1              NaN   \n",
       "9981                NaN  B0BHTCF43H              NaN   \n",
       "\n",
       "     bestsellerRanks/0/category  bestsellerRanks/0/rank  \\\n",
       "0        Beauty & Personal Care                   308.0   \n",
       "1        Beauty & Personal Care                 26283.0   \n",
       "2        Beauty & Personal Care                 21593.0   \n",
       "3        Beauty & Personal Care                   358.0   \n",
       "4        Beauty & Personal Care                 81407.0   \n",
       "...                         ...                     ...   \n",
       "9977     Beauty & Personal Care                333573.0   \n",
       "9978                        NaN                     NaN   \n",
       "9979                        NaN                     NaN   \n",
       "9980     Beauty & Personal Care                715590.0   \n",
       "9981     Beauty & Personal Care                916926.0   \n",
       "\n",
       "                                  bestsellerRanks/0/url  \\\n",
       "0     https://www.amazon.com/gp/bestsellers/beauty/r...   \n",
       "1     https://www.amazon.com/gp/bestsellers/beauty/r...   \n",
       "2     https://www.amazon.com/gp/bestsellers/beauty/r...   \n",
       "3     https://www.amazon.com/gp/bestsellers/beauty/r...   \n",
       "4     https://www.amazon.com/gp/bestsellers/beauty/r...   \n",
       "...                                                 ...   \n",
       "9977  https://www.amazon.com/gp/bestsellers/beauty/r...   \n",
       "9978                                                NaN   \n",
       "9979                                                NaN   \n",
       "9980  https://www.amazon.com/gp/bestsellers/beauty/r...   \n",
       "9981  https://www.amazon.com/gp/bestsellers/beauty/r...   \n",
       "\n",
       "     bestsellerRanks/1/category  bestsellerRanks/1/rank  \\\n",
       "0                 Facial Serums                     8.0   \n",
       "1                 Facial Serums                   511.0   \n",
       "2                 Facial Serums                   415.0   \n",
       "3                 Facial Serums                    10.0   \n",
       "4                 Facial Serums                  1489.0   \n",
       "...                         ...                     ...   \n",
       "9977              Facial Serums                  5856.0   \n",
       "9978                        NaN                     NaN   \n",
       "9979                        NaN                     NaN   \n",
       "9980              Facial Serums                 11062.0   \n",
       "9981              Facial Serums                 13499.0   \n",
       "\n",
       "                                  bestsellerRanks/1/url  \\\n",
       "0     https://www.amazon.com/gp/bestsellers/beauty/7...   \n",
       "1     https://www.amazon.com/gp/bestsellers/beauty/7...   \n",
       "2     https://www.amazon.com/gp/bestsellers/beauty/7...   \n",
       "3     https://www.amazon.com/gp/bestsellers/beauty/7...   \n",
       "4     https://www.amazon.com/gp/bestsellers/beauty/7...   \n",
       "...                                                 ...   \n",
       "9977  https://www.amazon.com/gp/bestsellers/beauty/7...   \n",
       "9978                                                NaN   \n",
       "9979                                                NaN   \n",
       "9980  https://www.amazon.com/gp/bestsellers/beauty/7...   \n",
       "9981  https://www.amazon.com/gp/bestsellers/beauty/7...   \n",
       "\n",
       "     bestsellerRanks/2/category  ...  variantAsins/26 variantAsins/27  \\\n",
       "0                           NaN  ...              NaN             NaN   \n",
       "1                           NaN  ...              NaN             NaN   \n",
       "2                           NaN  ...              NaN             NaN   \n",
       "3                           NaN  ...              NaN             NaN   \n",
       "4                           NaN  ...              NaN             NaN   \n",
       "...                         ...  ...              ...             ...   \n",
       "9977                        NaN  ...              NaN             NaN   \n",
       "9978                        NaN  ...              NaN             NaN   \n",
       "9979                        NaN  ...              NaN             NaN   \n",
       "9980                        NaN  ...              NaN             NaN   \n",
       "9981                        NaN  ...              NaN             NaN   \n",
       "\n",
       "     variantAsins/28  variantAsins/29 variantAttributes/0/key  \\\n",
       "0                NaN              NaN                     NaN   \n",
       "1                NaN              NaN            Pattern Name   \n",
       "2                NaN              NaN                   Color   \n",
       "3                NaN              NaN                   Scent   \n",
       "4                NaN              NaN                     NaN   \n",
       "...              ...              ...                     ...   \n",
       "9977             NaN              NaN                     NaN   \n",
       "9978             NaN              NaN                     NaN   \n",
       "9979             NaN              NaN                   Color   \n",
       "9980             NaN              NaN                     NaN   \n",
       "9981             NaN              NaN                     NaN   \n",
       "\n",
       "     variantAttributes/0/value variantAttributes/1/key  \\\n",
       "0                          NaN                     NaN   \n",
       "1        Hyaluronic Acid Serum                     NaN   \n",
       "2         Hyaluronic & Retinol                     NaN   \n",
       "3                      Regular                    Size   \n",
       "4                          NaN                     NaN   \n",
       "...                        ...                     ...   \n",
       "9977                       NaN                     NaN   \n",
       "9978                       NaN                     NaN   \n",
       "9979                       2PC                     NaN   \n",
       "9980                       NaN                     NaN   \n",
       "9981                       NaN                     NaN   \n",
       "\n",
       "     variantAttributes/1/value variantAttributes/2/key  \\\n",
       "0                          NaN                     NaN   \n",
       "1                          NaN                     NaN   \n",
       "2                          NaN                     NaN   \n",
       "3          1 Fl Oz (Pack of 1)                     NaN   \n",
       "4                          NaN                     NaN   \n",
       "...                        ...                     ...   \n",
       "9977                       NaN                     NaN   \n",
       "9978                       NaN                     NaN   \n",
       "9979                       NaN                     NaN   \n",
       "9980                       NaN                     NaN   \n",
       "9981                       NaN                     NaN   \n",
       "\n",
       "     variantAttributes/2/value  \n",
       "0                          NaN  \n",
       "1                          NaN  \n",
       "2                          NaN  \n",
       "3                          NaN  \n",
       "4                          NaN  \n",
       "...                        ...  \n",
       "9977                       NaN  \n",
       "9978                       NaN  \n",
       "9979                       NaN  \n",
       "9980                       NaN  \n",
       "9981                       NaN  \n",
       "\n",
       "[9982 rows x 97 columns]"
      ]
     },
     "execution_count": 191,
     "metadata": {},
     "output_type": "execute_result"
    }
   ],
   "source": [
    "df"
   ]
  },
  {
   "cell_type": "markdown",
   "id": "15a8031f",
   "metadata": {},
   "source": [
    "### Rename the column"
   ]
  },
  {
   "cell_type": "code",
   "execution_count": 192,
   "id": "9b754224",
   "metadata": {},
   "outputs": [],
   "source": [
    "df = df[['title','brand','reviewsCount','stars','price/value','breadCrumbs','description','seller/name']]"
   ]
  },
  {
   "cell_type": "code",
   "execution_count": 193,
   "id": "ae2e6923",
   "metadata": {},
   "outputs": [],
   "source": [
    "df = df.rename(columns = {'breadCrumbs':'category','price/value': 'price', 'stars': 'rating', 'seller/name': 'seller', 'reviewsCount':'review' })"
   ]
  },
  {
   "cell_type": "markdown",
   "id": "42981153",
   "metadata": {},
   "source": [
    "### Data Cleansing"
   ]
  },
  {
   "cell_type": "code",
   "execution_count": 194,
   "id": "d9d17952",
   "metadata": {},
   "outputs": [
    {
     "data": {
      "text/plain": [
       "title             0\n",
       "brand           865\n",
       "review         3807\n",
       "rating         3807\n",
       "price          3658\n",
       "category          2\n",
       "description    3862\n",
       "seller          410\n",
       "dtype: int64"
      ]
     },
     "execution_count": 194,
     "metadata": {},
     "output_type": "execute_result"
    }
   ],
   "source": [
    "df.isnull().sum()"
   ]
  },
  {
   "cell_type": "markdown",
   "id": "4737da89",
   "metadata": {},
   "source": [
    "### Modify the category column to make it more understandable"
   ]
  },
  {
   "cell_type": "code",
   "execution_count": 195,
   "id": "72f0b71e",
   "metadata": {},
   "outputs": [],
   "source": [
    "df['category'] = df['category'].fillna('')\n",
    "df['category'] = df['category'].apply(lambda x: x.split('›')[2].strip() if len(x.split('›')) >= 3 else x.split('›')[0].strip())"
   ]
  },
  {
   "cell_type": "code",
   "execution_count": 197,
   "id": "d5c9d1a1",
   "metadata": {},
   "outputs": [
    {
     "data": {
      "text/html": [
       "<div>\n",
       "<style scoped>\n",
       "    .dataframe tbody tr th:only-of-type {\n",
       "        vertical-align: middle;\n",
       "    }\n",
       "\n",
       "    .dataframe tbody tr th {\n",
       "        vertical-align: top;\n",
       "    }\n",
       "\n",
       "    .dataframe thead th {\n",
       "        text-align: right;\n",
       "    }\n",
       "</style>\n",
       "<table border=\"1\" class=\"dataframe\">\n",
       "  <thead>\n",
       "    <tr style=\"text-align: right;\">\n",
       "      <th></th>\n",
       "      <th>title</th>\n",
       "      <th>brand</th>\n",
       "      <th>review</th>\n",
       "      <th>rating</th>\n",
       "      <th>price</th>\n",
       "      <th>category</th>\n",
       "      <th>description</th>\n",
       "      <th>seller</th>\n",
       "    </tr>\n",
       "  </thead>\n",
       "  <tbody>\n",
       "    <tr>\n",
       "      <th>0</th>\n",
       "      <td>Tree of Life Vitamin C Serum, Retinol Serum an...</td>\n",
       "      <td>Tree of Life Beauty</td>\n",
       "      <td>65249.0</td>\n",
       "      <td>4.4</td>\n",
       "      <td>23.95</td>\n",
       "      <td>Face</td>\n",
       "      <td>NaN</td>\n",
       "      <td>DoubleY Brands</td>\n",
       "    </tr>\n",
       "    <tr>\n",
       "      <th>1</th>\n",
       "      <td>OZNATURALS Hyaluronic Acid Serum for Face - Pl...</td>\n",
       "      <td>OZNaturals</td>\n",
       "      <td>2437.0</td>\n",
       "      <td>4.4</td>\n",
       "      <td>18.00</td>\n",
       "      <td>Face</td>\n",
       "      <td>NaN</td>\n",
       "      <td>OZ Naturals</td>\n",
       "    </tr>\n",
       "    <tr>\n",
       "      <th>2</th>\n",
       "      <td>AZURE Hyaluronic Acid &amp; Retinol Anti Aging Fac...</td>\n",
       "      <td>Azure Cosmetics</td>\n",
       "      <td>592.0</td>\n",
       "      <td>4.4</td>\n",
       "      <td>7.69</td>\n",
       "      <td>Face</td>\n",
       "      <td>NaN</td>\n",
       "      <td>Official FORTIFY &amp; AZURE Skincare</td>\n",
       "    </tr>\n",
       "    <tr>\n",
       "      <th>3</th>\n",
       "      <td>Eva Naturals Vitamin C Serum for Face Plus Hya...</td>\n",
       "      <td>Eva Naturals</td>\n",
       "      <td>52231.0</td>\n",
       "      <td>4.3</td>\n",
       "      <td>14.99</td>\n",
       "      <td>Face</td>\n",
       "      <td>NaN</td>\n",
       "      <td>Eva Naturals Inc.</td>\n",
       "    </tr>\n",
       "    <tr>\n",
       "      <th>4</th>\n",
       "      <td>Wishful Hydrate &amp; Glow Trio Gift Set:: Yo Glow...</td>\n",
       "      <td>Wishful</td>\n",
       "      <td>36.0</td>\n",
       "      <td>4.2</td>\n",
       "      <td>32.06</td>\n",
       "      <td>Face</td>\n",
       "      <td>WISHFULHydrate and Glow TrioA must-have set of...</td>\n",
       "      <td>Seizee</td>\n",
       "    </tr>\n",
       "    <tr>\n",
       "      <th>...</th>\n",
       "      <td>...</td>\n",
       "      <td>...</td>\n",
       "      <td>...</td>\n",
       "      <td>...</td>\n",
       "      <td>...</td>\n",
       "      <td>...</td>\n",
       "      <td>...</td>\n",
       "      <td>...</td>\n",
       "    </tr>\n",
       "    <tr>\n",
       "      <th>9977</th>\n",
       "      <td>Anti Wrinkle Collagen Restoring Serum by Mojo ...</td>\n",
       "      <td>Mojo Wellbeing</td>\n",
       "      <td>35.0</td>\n",
       "      <td>4.2</td>\n",
       "      <td>NaN</td>\n",
       "      <td>Face</td>\n",
       "      <td>NaN</td>\n",
       "      <td>Uncovery</td>\n",
       "    </tr>\n",
       "    <tr>\n",
       "      <th>9978</th>\n",
       "      <td>Deve Herbes Plant Based Vitamin C Face Serum w...</td>\n",
       "      <td>Deve Herbes</td>\n",
       "      <td>NaN</td>\n",
       "      <td>NaN</td>\n",
       "      <td>19.99</td>\n",
       "      <td>Face</td>\n",
       "      <td>Deve Herbes Plant Based Vitamin C Face Serum w...</td>\n",
       "      <td>dève herbes US</td>\n",
       "    </tr>\n",
       "    <tr>\n",
       "      <th>9979</th>\n",
       "      <td>Hhkuize Biolap Aloe Vera Acne Serum Gel, 100% ...</td>\n",
       "      <td>Hhkuize</td>\n",
       "      <td>1.0</td>\n",
       "      <td>1.0</td>\n",
       "      <td>NaN</td>\n",
       "      <td>Face</td>\n",
       "      <td>NaN</td>\n",
       "      <td>huyawangl</td>\n",
       "    </tr>\n",
       "    <tr>\n",
       "      <th>9980</th>\n",
       "      <td>Tygaz Biovana Skin Serum Anti-Aging Formula - ...</td>\n",
       "      <td>Tygaz</td>\n",
       "      <td>4.0</td>\n",
       "      <td>4.3</td>\n",
       "      <td>39.95</td>\n",
       "      <td>Face</td>\n",
       "      <td>Biovana Skin Serum Anti-Aging Formula - 3 Pack</td>\n",
       "      <td>Beauty A Plus</td>\n",
       "    </tr>\n",
       "    <tr>\n",
       "      <th>9981</th>\n",
       "      <td>skin care facial Brightening serum Vitamin C S...</td>\n",
       "      <td>Generic</td>\n",
       "      <td>NaN</td>\n",
       "      <td>NaN</td>\n",
       "      <td>19.99</td>\n",
       "      <td>Face</td>\n",
       "      <td>expiration date printed packaging</td>\n",
       "      <td>HALAL CHEAP STORE</td>\n",
       "    </tr>\n",
       "  </tbody>\n",
       "</table>\n",
       "<p>9982 rows × 8 columns</p>\n",
       "</div>"
      ],
      "text/plain": [
       "                                                  title                brand  \\\n",
       "0     Tree of Life Vitamin C Serum, Retinol Serum an...  Tree of Life Beauty   \n",
       "1     OZNATURALS Hyaluronic Acid Serum for Face - Pl...           OZNaturals   \n",
       "2     AZURE Hyaluronic Acid & Retinol Anti Aging Fac...      Azure Cosmetics   \n",
       "3     Eva Naturals Vitamin C Serum for Face Plus Hya...         Eva Naturals   \n",
       "4     Wishful Hydrate & Glow Trio Gift Set:: Yo Glow...              Wishful   \n",
       "...                                                 ...                  ...   \n",
       "9977  Anti Wrinkle Collagen Restoring Serum by Mojo ...       Mojo Wellbeing   \n",
       "9978  Deve Herbes Plant Based Vitamin C Face Serum w...          Deve Herbes   \n",
       "9979  Hhkuize Biolap Aloe Vera Acne Serum Gel, 100% ...              Hhkuize   \n",
       "9980  Tygaz Biovana Skin Serum Anti-Aging Formula - ...                Tygaz   \n",
       "9981  skin care facial Brightening serum Vitamin C S...              Generic   \n",
       "\n",
       "       review  rating  price category  \\\n",
       "0     65249.0     4.4  23.95     Face   \n",
       "1      2437.0     4.4  18.00     Face   \n",
       "2       592.0     4.4   7.69     Face   \n",
       "3     52231.0     4.3  14.99     Face   \n",
       "4        36.0     4.2  32.06     Face   \n",
       "...       ...     ...    ...      ...   \n",
       "9977     35.0     4.2    NaN     Face   \n",
       "9978      NaN     NaN  19.99     Face   \n",
       "9979      1.0     1.0    NaN     Face   \n",
       "9980      4.0     4.3  39.95     Face   \n",
       "9981      NaN     NaN  19.99     Face   \n",
       "\n",
       "                                            description  \\\n",
       "0                                                   NaN   \n",
       "1                                                   NaN   \n",
       "2                                                   NaN   \n",
       "3                                                   NaN   \n",
       "4     WISHFULHydrate and Glow TrioA must-have set of...   \n",
       "...                                                 ...   \n",
       "9977                                                NaN   \n",
       "9978  Deve Herbes Plant Based Vitamin C Face Serum w...   \n",
       "9979                                                NaN   \n",
       "9980     Biovana Skin Serum Anti-Aging Formula - 3 Pack   \n",
       "9981                  expiration date printed packaging   \n",
       "\n",
       "                                 seller  \n",
       "0                        DoubleY Brands  \n",
       "1                           OZ Naturals  \n",
       "2     Official FORTIFY & AZURE Skincare  \n",
       "3                     Eva Naturals Inc.  \n",
       "4                                Seizee  \n",
       "...                                 ...  \n",
       "9977                           Uncovery  \n",
       "9978                     dève herbes US  \n",
       "9979                          huyawangl  \n",
       "9980                      Beauty A Plus  \n",
       "9981                  HALAL CHEAP STORE  \n",
       "\n",
       "[9982 rows x 8 columns]"
      ]
     },
     "execution_count": 197,
     "metadata": {},
     "output_type": "execute_result"
    }
   ],
   "source": [
    "df"
   ]
  },
  {
   "cell_type": "code",
   "execution_count": 198,
   "id": "6fc37501",
   "metadata": {},
   "outputs": [
    {
     "data": {
      "text/plain": [
       "Face                                  9710\n",
       "Sets & Kits                            117\n",
       "Eyes                                    62\n",
       "Body                                    46\n",
       "Skin Care Tools                         14\n",
       "Beauty & Personal Care                   8\n",
       "Sunscreens & Tanning Products            8\n",
       "Women's                                  3\n",
       "Foot & Hand Care                         3\n",
       "Lip Care                                 2\n",
       "                                         2\n",
       "First Aid                                2\n",
       "Styling Products                         1\n",
       "Men's                                    1\n",
       "Hair Perms, Relaxers & Texturizers       1\n",
       "Bath & Bathing Accessories               1\n",
       "Scrubs & Body Treatments                 1\n",
       "Name: category, dtype: int64"
      ]
     },
     "execution_count": 198,
     "metadata": {},
     "output_type": "execute_result"
    }
   ],
   "source": [
    "df['category'].value_counts()"
   ]
  },
  {
   "cell_type": "code",
   "execution_count": 199,
   "id": "de7052c4",
   "metadata": {},
   "outputs": [
    {
     "data": {
      "text/plain": [
       "THAIGIFTSHOP                           679\n",
       "Amazon.com                             662\n",
       "Beautygoodshop                         130\n",
       "Ceno Nutrition                         120\n",
       "Avance Beauty                           75\n",
       "                                      ... \n",
       "IntegrityGoodsLLC                        1\n",
       "The Healthy Habit - Vitamins & More      1\n",
       "atk market                               1\n",
       "MUOO                                     1\n",
       "HALAL CHEAP STORE                        1\n",
       "Name: seller, Length: 3528, dtype: int64"
      ]
     },
     "execution_count": 199,
     "metadata": {},
     "output_type": "execute_result"
    }
   ],
   "source": [
    "df['seller'].value_counts()"
   ]
  },
  {
   "cell_type": "markdown",
   "id": "28a85793",
   "metadata": {},
   "source": [
    "Drop the data that have no brand"
   ]
  },
  {
   "cell_type": "code",
   "execution_count": 200,
   "id": "86a406b7",
   "metadata": {},
   "outputs": [],
   "source": [
    "df.dropna(subset=['brand'], inplace=True)"
   ]
  },
  {
   "cell_type": "code",
   "execution_count": 201,
   "id": "a3029eec",
   "metadata": {},
   "outputs": [],
   "source": [
    "df.dropna(subset=['seller'], inplace=True)"
   ]
  },
  {
   "cell_type": "markdown",
   "id": "c7a011e2",
   "metadata": {},
   "source": [
    "Keep only face category"
   ]
  },
  {
   "cell_type": "code",
   "execution_count": 202,
   "id": "1729a083",
   "metadata": {},
   "outputs": [],
   "source": [
    "df = df[df['category']=='Face']"
   ]
  },
  {
   "cell_type": "code",
   "execution_count": 203,
   "id": "a245d01b",
   "metadata": {
    "scrolled": true
   },
   "outputs": [
    {
     "data": {
      "text/html": [
       "<div>\n",
       "<style scoped>\n",
       "    .dataframe tbody tr th:only-of-type {\n",
       "        vertical-align: middle;\n",
       "    }\n",
       "\n",
       "    .dataframe tbody tr th {\n",
       "        vertical-align: top;\n",
       "    }\n",
       "\n",
       "    .dataframe thead th {\n",
       "        text-align: right;\n",
       "    }\n",
       "</style>\n",
       "<table border=\"1\" class=\"dataframe\">\n",
       "  <thead>\n",
       "    <tr style=\"text-align: right;\">\n",
       "      <th></th>\n",
       "      <th>title</th>\n",
       "      <th>brand</th>\n",
       "      <th>review</th>\n",
       "      <th>rating</th>\n",
       "      <th>price</th>\n",
       "      <th>category</th>\n",
       "      <th>description</th>\n",
       "      <th>seller</th>\n",
       "    </tr>\n",
       "  </thead>\n",
       "  <tbody>\n",
       "    <tr>\n",
       "      <th>0</th>\n",
       "      <td>Tree of Life Vitamin C Serum, Retinol Serum an...</td>\n",
       "      <td>Tree of Life Beauty</td>\n",
       "      <td>65249.0</td>\n",
       "      <td>4.4</td>\n",
       "      <td>23.95</td>\n",
       "      <td>Face</td>\n",
       "      <td>NaN</td>\n",
       "      <td>DoubleY Brands</td>\n",
       "    </tr>\n",
       "    <tr>\n",
       "      <th>1</th>\n",
       "      <td>OZNATURALS Hyaluronic Acid Serum for Face - Pl...</td>\n",
       "      <td>OZNaturals</td>\n",
       "      <td>2437.0</td>\n",
       "      <td>4.4</td>\n",
       "      <td>18.00</td>\n",
       "      <td>Face</td>\n",
       "      <td>NaN</td>\n",
       "      <td>OZ Naturals</td>\n",
       "    </tr>\n",
       "    <tr>\n",
       "      <th>2</th>\n",
       "      <td>AZURE Hyaluronic Acid &amp; Retinol Anti Aging Fac...</td>\n",
       "      <td>Azure Cosmetics</td>\n",
       "      <td>592.0</td>\n",
       "      <td>4.4</td>\n",
       "      <td>7.69</td>\n",
       "      <td>Face</td>\n",
       "      <td>NaN</td>\n",
       "      <td>Official FORTIFY &amp; AZURE Skincare</td>\n",
       "    </tr>\n",
       "    <tr>\n",
       "      <th>3</th>\n",
       "      <td>Eva Naturals Vitamin C Serum for Face Plus Hya...</td>\n",
       "      <td>Eva Naturals</td>\n",
       "      <td>52231.0</td>\n",
       "      <td>4.3</td>\n",
       "      <td>14.99</td>\n",
       "      <td>Face</td>\n",
       "      <td>NaN</td>\n",
       "      <td>Eva Naturals Inc.</td>\n",
       "    </tr>\n",
       "    <tr>\n",
       "      <th>4</th>\n",
       "      <td>Wishful Hydrate &amp; Glow Trio Gift Set:: Yo Glow...</td>\n",
       "      <td>Wishful</td>\n",
       "      <td>36.0</td>\n",
       "      <td>4.2</td>\n",
       "      <td>32.06</td>\n",
       "      <td>Face</td>\n",
       "      <td>WISHFULHydrate and Glow TrioA must-have set of...</td>\n",
       "      <td>Seizee</td>\n",
       "    </tr>\n",
       "    <tr>\n",
       "      <th>...</th>\n",
       "      <td>...</td>\n",
       "      <td>...</td>\n",
       "      <td>...</td>\n",
       "      <td>...</td>\n",
       "      <td>...</td>\n",
       "      <td>...</td>\n",
       "      <td>...</td>\n",
       "      <td>...</td>\n",
       "    </tr>\n",
       "    <tr>\n",
       "      <th>9977</th>\n",
       "      <td>Anti Wrinkle Collagen Restoring Serum by Mojo ...</td>\n",
       "      <td>Mojo Wellbeing</td>\n",
       "      <td>35.0</td>\n",
       "      <td>4.2</td>\n",
       "      <td>NaN</td>\n",
       "      <td>Face</td>\n",
       "      <td>NaN</td>\n",
       "      <td>Uncovery</td>\n",
       "    </tr>\n",
       "    <tr>\n",
       "      <th>9978</th>\n",
       "      <td>Deve Herbes Plant Based Vitamin C Face Serum w...</td>\n",
       "      <td>Deve Herbes</td>\n",
       "      <td>NaN</td>\n",
       "      <td>NaN</td>\n",
       "      <td>19.99</td>\n",
       "      <td>Face</td>\n",
       "      <td>Deve Herbes Plant Based Vitamin C Face Serum w...</td>\n",
       "      <td>dève herbes US</td>\n",
       "    </tr>\n",
       "    <tr>\n",
       "      <th>9979</th>\n",
       "      <td>Hhkuize Biolap Aloe Vera Acne Serum Gel, 100% ...</td>\n",
       "      <td>Hhkuize</td>\n",
       "      <td>1.0</td>\n",
       "      <td>1.0</td>\n",
       "      <td>NaN</td>\n",
       "      <td>Face</td>\n",
       "      <td>NaN</td>\n",
       "      <td>huyawangl</td>\n",
       "    </tr>\n",
       "    <tr>\n",
       "      <th>9980</th>\n",
       "      <td>Tygaz Biovana Skin Serum Anti-Aging Formula - ...</td>\n",
       "      <td>Tygaz</td>\n",
       "      <td>4.0</td>\n",
       "      <td>4.3</td>\n",
       "      <td>39.95</td>\n",
       "      <td>Face</td>\n",
       "      <td>Biovana Skin Serum Anti-Aging Formula - 3 Pack</td>\n",
       "      <td>Beauty A Plus</td>\n",
       "    </tr>\n",
       "    <tr>\n",
       "      <th>9981</th>\n",
       "      <td>skin care facial Brightening serum Vitamin C S...</td>\n",
       "      <td>Generic</td>\n",
       "      <td>NaN</td>\n",
       "      <td>NaN</td>\n",
       "      <td>19.99</td>\n",
       "      <td>Face</td>\n",
       "      <td>expiration date printed packaging</td>\n",
       "      <td>HALAL CHEAP STORE</td>\n",
       "    </tr>\n",
       "  </tbody>\n",
       "</table>\n",
       "<p>8479 rows × 8 columns</p>\n",
       "</div>"
      ],
      "text/plain": [
       "                                                  title                brand  \\\n",
       "0     Tree of Life Vitamin C Serum, Retinol Serum an...  Tree of Life Beauty   \n",
       "1     OZNATURALS Hyaluronic Acid Serum for Face - Pl...           OZNaturals   \n",
       "2     AZURE Hyaluronic Acid & Retinol Anti Aging Fac...      Azure Cosmetics   \n",
       "3     Eva Naturals Vitamin C Serum for Face Plus Hya...         Eva Naturals   \n",
       "4     Wishful Hydrate & Glow Trio Gift Set:: Yo Glow...              Wishful   \n",
       "...                                                 ...                  ...   \n",
       "9977  Anti Wrinkle Collagen Restoring Serum by Mojo ...       Mojo Wellbeing   \n",
       "9978  Deve Herbes Plant Based Vitamin C Face Serum w...          Deve Herbes   \n",
       "9979  Hhkuize Biolap Aloe Vera Acne Serum Gel, 100% ...              Hhkuize   \n",
       "9980  Tygaz Biovana Skin Serum Anti-Aging Formula - ...                Tygaz   \n",
       "9981  skin care facial Brightening serum Vitamin C S...              Generic   \n",
       "\n",
       "       review  rating  price category  \\\n",
       "0     65249.0     4.4  23.95     Face   \n",
       "1      2437.0     4.4  18.00     Face   \n",
       "2       592.0     4.4   7.69     Face   \n",
       "3     52231.0     4.3  14.99     Face   \n",
       "4        36.0     4.2  32.06     Face   \n",
       "...       ...     ...    ...      ...   \n",
       "9977     35.0     4.2    NaN     Face   \n",
       "9978      NaN     NaN  19.99     Face   \n",
       "9979      1.0     1.0    NaN     Face   \n",
       "9980      4.0     4.3  39.95     Face   \n",
       "9981      NaN     NaN  19.99     Face   \n",
       "\n",
       "                                            description  \\\n",
       "0                                                   NaN   \n",
       "1                                                   NaN   \n",
       "2                                                   NaN   \n",
       "3                                                   NaN   \n",
       "4     WISHFULHydrate and Glow TrioA must-have set of...   \n",
       "...                                                 ...   \n",
       "9977                                                NaN   \n",
       "9978  Deve Herbes Plant Based Vitamin C Face Serum w...   \n",
       "9979                                                NaN   \n",
       "9980     Biovana Skin Serum Anti-Aging Formula - 3 Pack   \n",
       "9981                  expiration date printed packaging   \n",
       "\n",
       "                                 seller  \n",
       "0                        DoubleY Brands  \n",
       "1                           OZ Naturals  \n",
       "2     Official FORTIFY & AZURE Skincare  \n",
       "3                     Eva Naturals Inc.  \n",
       "4                                Seizee  \n",
       "...                                 ...  \n",
       "9977                           Uncovery  \n",
       "9978                     dève herbes US  \n",
       "9979                          huyawangl  \n",
       "9980                      Beauty A Plus  \n",
       "9981                  HALAL CHEAP STORE  \n",
       "\n",
       "[8479 rows x 8 columns]"
      ]
     },
     "execution_count": 203,
     "metadata": {},
     "output_type": "execute_result"
    }
   ],
   "source": [
    "df"
   ]
  },
  {
   "cell_type": "code",
   "execution_count": 204,
   "id": "8ce73b67",
   "metadata": {},
   "outputs": [
    {
     "name": "stderr",
     "output_type": "stream",
     "text": [
      "/var/folders/w8/dyd2vsws19s7k0p9f9m03yg80000gn/T/ipykernel_74179/1916065691.py:8: SettingWithCopyWarning: \n",
      "A value is trying to be set on a copy of a slice from a DataFrame.\n",
      "Try using .loc[row_indexer,col_indexer] = value instead\n",
      "\n",
      "See the caveats in the documentation: https://pandas.pydata.org/pandas-docs/stable/user_guide/indexing.html#returning-a-view-versus-a-copy\n",
      "  df['title'] = df['title'].astype(str)\n",
      "/var/folders/w8/dyd2vsws19s7k0p9f9m03yg80000gn/T/ipykernel_74179/1916065691.py:9: SettingWithCopyWarning: \n",
      "A value is trying to be set on a copy of a slice from a DataFrame.\n",
      "Try using .loc[row_indexer,col_indexer] = value instead\n",
      "\n",
      "See the caveats in the documentation: https://pandas.pydata.org/pandas-docs/stable/user_guide/indexing.html#returning-a-view-versus-a-copy\n",
      "  df['description'] = df['description'].astype(str)\n",
      "/var/folders/w8/dyd2vsws19s7k0p9f9m03yg80000gn/T/ipykernel_74179/1916065691.py:21: SettingWithCopyWarning: \n",
      "A value is trying to be set on a copy of a slice from a DataFrame.\n",
      "Try using .loc[row_indexer,col_indexer] = value instead\n",
      "\n",
      "See the caveats in the documentation: https://pandas.pydata.org/pandas-docs/stable/user_guide/indexing.html#returning-a-view-versus-a-copy\n",
      "  df[ingredient] = df.apply(lambda row: check_ingredients(row) if ingredient.lower() in row['title'].lower() or ingredient.lower() in row['description'].lower() else 0, axis=1)\n",
      "/var/folders/w8/dyd2vsws19s7k0p9f9m03yg80000gn/T/ipykernel_74179/1916065691.py:21: SettingWithCopyWarning: \n",
      "A value is trying to be set on a copy of a slice from a DataFrame.\n",
      "Try using .loc[row_indexer,col_indexer] = value instead\n",
      "\n",
      "See the caveats in the documentation: https://pandas.pydata.org/pandas-docs/stable/user_guide/indexing.html#returning-a-view-versus-a-copy\n",
      "  df[ingredient] = df.apply(lambda row: check_ingredients(row) if ingredient.lower() in row['title'].lower() or ingredient.lower() in row['description'].lower() else 0, axis=1)\n",
      "/var/folders/w8/dyd2vsws19s7k0p9f9m03yg80000gn/T/ipykernel_74179/1916065691.py:21: SettingWithCopyWarning: \n",
      "A value is trying to be set on a copy of a slice from a DataFrame.\n",
      "Try using .loc[row_indexer,col_indexer] = value instead\n",
      "\n",
      "See the caveats in the documentation: https://pandas.pydata.org/pandas-docs/stable/user_guide/indexing.html#returning-a-view-versus-a-copy\n",
      "  df[ingredient] = df.apply(lambda row: check_ingredients(row) if ingredient.lower() in row['title'].lower() or ingredient.lower() in row['description'].lower() else 0, axis=1)\n",
      "/var/folders/w8/dyd2vsws19s7k0p9f9m03yg80000gn/T/ipykernel_74179/1916065691.py:21: SettingWithCopyWarning: \n",
      "A value is trying to be set on a copy of a slice from a DataFrame.\n",
      "Try using .loc[row_indexer,col_indexer] = value instead\n",
      "\n",
      "See the caveats in the documentation: https://pandas.pydata.org/pandas-docs/stable/user_guide/indexing.html#returning-a-view-versus-a-copy\n",
      "  df[ingredient] = df.apply(lambda row: check_ingredients(row) if ingredient.lower() in row['title'].lower() or ingredient.lower() in row['description'].lower() else 0, axis=1)\n",
      "/var/folders/w8/dyd2vsws19s7k0p9f9m03yg80000gn/T/ipykernel_74179/1916065691.py:21: SettingWithCopyWarning: \n",
      "A value is trying to be set on a copy of a slice from a DataFrame.\n",
      "Try using .loc[row_indexer,col_indexer] = value instead\n",
      "\n",
      "See the caveats in the documentation: https://pandas.pydata.org/pandas-docs/stable/user_guide/indexing.html#returning-a-view-versus-a-copy\n",
      "  df[ingredient] = df.apply(lambda row: check_ingredients(row) if ingredient.lower() in row['title'].lower() or ingredient.lower() in row['description'].lower() else 0, axis=1)\n",
      "/var/folders/w8/dyd2vsws19s7k0p9f9m03yg80000gn/T/ipykernel_74179/1916065691.py:21: SettingWithCopyWarning: \n",
      "A value is trying to be set on a copy of a slice from a DataFrame.\n",
      "Try using .loc[row_indexer,col_indexer] = value instead\n",
      "\n",
      "See the caveats in the documentation: https://pandas.pydata.org/pandas-docs/stable/user_guide/indexing.html#returning-a-view-versus-a-copy\n",
      "  df[ingredient] = df.apply(lambda row: check_ingredients(row) if ingredient.lower() in row['title'].lower() or ingredient.lower() in row['description'].lower() else 0, axis=1)\n",
      "/var/folders/w8/dyd2vsws19s7k0p9f9m03yg80000gn/T/ipykernel_74179/1916065691.py:21: SettingWithCopyWarning: \n",
      "A value is trying to be set on a copy of a slice from a DataFrame.\n",
      "Try using .loc[row_indexer,col_indexer] = value instead\n",
      "\n",
      "See the caveats in the documentation: https://pandas.pydata.org/pandas-docs/stable/user_guide/indexing.html#returning-a-view-versus-a-copy\n",
      "  df[ingredient] = df.apply(lambda row: check_ingredients(row) if ingredient.lower() in row['title'].lower() or ingredient.lower() in row['description'].lower() else 0, axis=1)\n",
      "/var/folders/w8/dyd2vsws19s7k0p9f9m03yg80000gn/T/ipykernel_74179/1916065691.py:21: SettingWithCopyWarning: \n",
      "A value is trying to be set on a copy of a slice from a DataFrame.\n",
      "Try using .loc[row_indexer,col_indexer] = value instead\n",
      "\n",
      "See the caveats in the documentation: https://pandas.pydata.org/pandas-docs/stable/user_guide/indexing.html#returning-a-view-versus-a-copy\n",
      "  df[ingredient] = df.apply(lambda row: check_ingredients(row) if ingredient.lower() in row['title'].lower() or ingredient.lower() in row['description'].lower() else 0, axis=1)\n",
      "/var/folders/w8/dyd2vsws19s7k0p9f9m03yg80000gn/T/ipykernel_74179/1916065691.py:21: SettingWithCopyWarning: \n",
      "A value is trying to be set on a copy of a slice from a DataFrame.\n",
      "Try using .loc[row_indexer,col_indexer] = value instead\n",
      "\n",
      "See the caveats in the documentation: https://pandas.pydata.org/pandas-docs/stable/user_guide/indexing.html#returning-a-view-versus-a-copy\n",
      "  df[ingredient] = df.apply(lambda row: check_ingredients(row) if ingredient.lower() in row['title'].lower() or ingredient.lower() in row['description'].lower() else 0, axis=1)\n",
      "/var/folders/w8/dyd2vsws19s7k0p9f9m03yg80000gn/T/ipykernel_74179/1916065691.py:21: SettingWithCopyWarning: \n",
      "A value is trying to be set on a copy of a slice from a DataFrame.\n",
      "Try using .loc[row_indexer,col_indexer] = value instead\n",
      "\n",
      "See the caveats in the documentation: https://pandas.pydata.org/pandas-docs/stable/user_guide/indexing.html#returning-a-view-versus-a-copy\n",
      "  df[ingredient] = df.apply(lambda row: check_ingredients(row) if ingredient.lower() in row['title'].lower() or ingredient.lower() in row['description'].lower() else 0, axis=1)\n",
      "/var/folders/w8/dyd2vsws19s7k0p9f9m03yg80000gn/T/ipykernel_74179/1916065691.py:21: SettingWithCopyWarning: \n",
      "A value is trying to be set on a copy of a slice from a DataFrame.\n",
      "Try using .loc[row_indexer,col_indexer] = value instead\n",
      "\n",
      "See the caveats in the documentation: https://pandas.pydata.org/pandas-docs/stable/user_guide/indexing.html#returning-a-view-versus-a-copy\n",
      "  df[ingredient] = df.apply(lambda row: check_ingredients(row) if ingredient.lower() in row['title'].lower() or ingredient.lower() in row['description'].lower() else 0, axis=1)\n",
      "/var/folders/w8/dyd2vsws19s7k0p9f9m03yg80000gn/T/ipykernel_74179/1916065691.py:21: SettingWithCopyWarning: \n",
      "A value is trying to be set on a copy of a slice from a DataFrame.\n",
      "Try using .loc[row_indexer,col_indexer] = value instead\n",
      "\n",
      "See the caveats in the documentation: https://pandas.pydata.org/pandas-docs/stable/user_guide/indexing.html#returning-a-view-versus-a-copy\n",
      "  df[ingredient] = df.apply(lambda row: check_ingredients(row) if ingredient.lower() in row['title'].lower() or ingredient.lower() in row['description'].lower() else 0, axis=1)\n",
      "/var/folders/w8/dyd2vsws19s7k0p9f9m03yg80000gn/T/ipykernel_74179/1916065691.py:21: SettingWithCopyWarning: \n",
      "A value is trying to be set on a copy of a slice from a DataFrame.\n",
      "Try using .loc[row_indexer,col_indexer] = value instead\n",
      "\n",
      "See the caveats in the documentation: https://pandas.pydata.org/pandas-docs/stable/user_guide/indexing.html#returning-a-view-versus-a-copy\n",
      "  df[ingredient] = df.apply(lambda row: check_ingredients(row) if ingredient.lower() in row['title'].lower() or ingredient.lower() in row['description'].lower() else 0, axis=1)\n",
      "/var/folders/w8/dyd2vsws19s7k0p9f9m03yg80000gn/T/ipykernel_74179/1916065691.py:21: SettingWithCopyWarning: \n",
      "A value is trying to be set on a copy of a slice from a DataFrame.\n",
      "Try using .loc[row_indexer,col_indexer] = value instead\n",
      "\n",
      "See the caveats in the documentation: https://pandas.pydata.org/pandas-docs/stable/user_guide/indexing.html#returning-a-view-versus-a-copy\n",
      "  df[ingredient] = df.apply(lambda row: check_ingredients(row) if ingredient.lower() in row['title'].lower() or ingredient.lower() in row['description'].lower() else 0, axis=1)\n"
     ]
    },
    {
     "name": "stderr",
     "output_type": "stream",
     "text": [
      "/var/folders/w8/dyd2vsws19s7k0p9f9m03yg80000gn/T/ipykernel_74179/1916065691.py:21: SettingWithCopyWarning: \n",
      "A value is trying to be set on a copy of a slice from a DataFrame.\n",
      "Try using .loc[row_indexer,col_indexer] = value instead\n",
      "\n",
      "See the caveats in the documentation: https://pandas.pydata.org/pandas-docs/stable/user_guide/indexing.html#returning-a-view-versus-a-copy\n",
      "  df[ingredient] = df.apply(lambda row: check_ingredients(row) if ingredient.lower() in row['title'].lower() or ingredient.lower() in row['description'].lower() else 0, axis=1)\n",
      "/var/folders/w8/dyd2vsws19s7k0p9f9m03yg80000gn/T/ipykernel_74179/1916065691.py:21: SettingWithCopyWarning: \n",
      "A value is trying to be set on a copy of a slice from a DataFrame.\n",
      "Try using .loc[row_indexer,col_indexer] = value instead\n",
      "\n",
      "See the caveats in the documentation: https://pandas.pydata.org/pandas-docs/stable/user_guide/indexing.html#returning-a-view-versus-a-copy\n",
      "  df[ingredient] = df.apply(lambda row: check_ingredients(row) if ingredient.lower() in row['title'].lower() or ingredient.lower() in row['description'].lower() else 0, axis=1)\n",
      "/var/folders/w8/dyd2vsws19s7k0p9f9m03yg80000gn/T/ipykernel_74179/1916065691.py:21: SettingWithCopyWarning: \n",
      "A value is trying to be set on a copy of a slice from a DataFrame.\n",
      "Try using .loc[row_indexer,col_indexer] = value instead\n",
      "\n",
      "See the caveats in the documentation: https://pandas.pydata.org/pandas-docs/stable/user_guide/indexing.html#returning-a-view-versus-a-copy\n",
      "  df[ingredient] = df.apply(lambda row: check_ingredients(row) if ingredient.lower() in row['title'].lower() or ingredient.lower() in row['description'].lower() else 0, axis=1)\n",
      "/var/folders/w8/dyd2vsws19s7k0p9f9m03yg80000gn/T/ipykernel_74179/1916065691.py:21: SettingWithCopyWarning: \n",
      "A value is trying to be set on a copy of a slice from a DataFrame.\n",
      "Try using .loc[row_indexer,col_indexer] = value instead\n",
      "\n",
      "See the caveats in the documentation: https://pandas.pydata.org/pandas-docs/stable/user_guide/indexing.html#returning-a-view-versus-a-copy\n",
      "  df[ingredient] = df.apply(lambda row: check_ingredients(row) if ingredient.lower() in row['title'].lower() or ingredient.lower() in row['description'].lower() else 0, axis=1)\n",
      "/var/folders/w8/dyd2vsws19s7k0p9f9m03yg80000gn/T/ipykernel_74179/1916065691.py:21: SettingWithCopyWarning: \n",
      "A value is trying to be set on a copy of a slice from a DataFrame.\n",
      "Try using .loc[row_indexer,col_indexer] = value instead\n",
      "\n",
      "See the caveats in the documentation: https://pandas.pydata.org/pandas-docs/stable/user_guide/indexing.html#returning-a-view-versus-a-copy\n",
      "  df[ingredient] = df.apply(lambda row: check_ingredients(row) if ingredient.lower() in row['title'].lower() or ingredient.lower() in row['description'].lower() else 0, axis=1)\n",
      "/var/folders/w8/dyd2vsws19s7k0p9f9m03yg80000gn/T/ipykernel_74179/1916065691.py:21: SettingWithCopyWarning: \n",
      "A value is trying to be set on a copy of a slice from a DataFrame.\n",
      "Try using .loc[row_indexer,col_indexer] = value instead\n",
      "\n",
      "See the caveats in the documentation: https://pandas.pydata.org/pandas-docs/stable/user_guide/indexing.html#returning-a-view-versus-a-copy\n",
      "  df[ingredient] = df.apply(lambda row: check_ingredients(row) if ingredient.lower() in row['title'].lower() or ingredient.lower() in row['description'].lower() else 0, axis=1)\n",
      "/var/folders/w8/dyd2vsws19s7k0p9f9m03yg80000gn/T/ipykernel_74179/1916065691.py:21: SettingWithCopyWarning: \n",
      "A value is trying to be set on a copy of a slice from a DataFrame.\n",
      "Try using .loc[row_indexer,col_indexer] = value instead\n",
      "\n",
      "See the caveats in the documentation: https://pandas.pydata.org/pandas-docs/stable/user_guide/indexing.html#returning-a-view-versus-a-copy\n",
      "  df[ingredient] = df.apply(lambda row: check_ingredients(row) if ingredient.lower() in row['title'].lower() or ingredient.lower() in row['description'].lower() else 0, axis=1)\n",
      "/var/folders/w8/dyd2vsws19s7k0p9f9m03yg80000gn/T/ipykernel_74179/1916065691.py:21: SettingWithCopyWarning: \n",
      "A value is trying to be set on a copy of a slice from a DataFrame.\n",
      "Try using .loc[row_indexer,col_indexer] = value instead\n",
      "\n",
      "See the caveats in the documentation: https://pandas.pydata.org/pandas-docs/stable/user_guide/indexing.html#returning-a-view-versus-a-copy\n",
      "  df[ingredient] = df.apply(lambda row: check_ingredients(row) if ingredient.lower() in row['title'].lower() or ingredient.lower() in row['description'].lower() else 0, axis=1)\n"
     ]
    }
   ],
   "source": [
    "ingredients = ['hyaluronic acid', 'retinol', 'vitamin c', 'niacinamide', 'glycolic acid',\n",
    "               'salicylic acid', 'aloe vera', 'ceramides', 'peptides', 'green tea',\n",
    "               'tea tree oil', 'jojoba oil', 'rosehip oil', 'squalane', 'witch hazel',\n",
    "               'azelaic acid', 'vitamin e','vitamin a', 'benzoyl peroxide', 'collagen', 'shea butter', 'matcha']\n",
    "\n",
    "\n",
    "# Convert DataFrame to string type\n",
    "df['title'] = df['title'].astype(str)\n",
    "df['description'] = df['description'].astype(str)\n",
    "\n",
    "\n",
    "# Create a function to check if an ingredient is in the title or description\n",
    "def check_ingredients(row):\n",
    "    for ingredient in ingredients:\n",
    "        if ingredient.lower() in row['title'].lower() or ingredient.lower() in row['description'].lower():\n",
    "            return 1\n",
    "    return 0\n",
    "\n",
    "# Apply the function to each row and create a new column for each ingredient\n",
    "for ingredient in ingredients:\n",
    "    df[ingredient] = df.apply(lambda row: check_ingredients(row) if ingredient.lower() in row['title'].lower() or ingredient.lower() in row['description'].lower() else 0, axis=1)\n"
   ]
  },
  {
   "cell_type": "markdown",
   "id": "13c5904a",
   "metadata": {},
   "source": [
    "Create another column to classify the product the pass the criteria for development"
   ]
  },
  {
   "cell_type": "code",
   "execution_count": 290,
   "id": "f42c577c",
   "metadata": {},
   "outputs": [
    {
     "name": "stderr",
     "output_type": "stream",
     "text": [
      "/var/folders/w8/dyd2vsws19s7k0p9f9m03yg80000gn/T/ipykernel_74179/3307384096.py:1: SettingWithCopyWarning: \n",
      "A value is trying to be set on a copy of a slice from a DataFrame.\n",
      "Try using .loc[row_indexer,col_indexer] = value instead\n",
      "\n",
      "See the caveats in the documentation: https://pandas.pydata.org/pandas-docs/stable/user_guide/indexing.html#returning-a-view-versus-a-copy\n",
      "  df['good_product'] = ((df['review'] >= 200) & (df['rating'] >= 4.0)).astype(int)\n"
     ]
    }
   ],
   "source": [
    "df['good_product'] = ((df['review'] >= 200) & (df['rating'] >= 4.0)).astype(int)"
   ]
  },
  {
   "cell_type": "code",
   "execution_count": 291,
   "id": "aa0fa53e",
   "metadata": {},
   "outputs": [
    {
     "data": {
      "text/plain": [
       "<AxesSubplot:xlabel='class', ylabel='count'>"
      ]
     },
     "execution_count": 291,
     "metadata": {},
     "output_type": "execute_result"
    },
    {
     "data": {
      "image/png": "[encoded data removed]",
      "text/plain": [
       "<Figure size 432x288 with 1 Axes>"
      ]
     },
     "metadata": {
      "needs_background": "light"
     },
     "output_type": "display_data"
    }
   ],
   "source": [
    "# Assuming you have a DataFrame called 'data' and the target variable is called 'target'\n",
    "class_counts = df['good_product'].value_counts()\n",
    "\n",
    "# Convert the counts to a DataFrame for easier plotting\n",
    "class_counts_df = pd.DataFrame({'class': class_counts.index, 'count': class_counts.values})\n",
    "\n",
    "# Create a bar plot using seaborn\n",
    "sns.barplot(x='class', y='count', data=class_counts_df)"
   ]
  },
  {
   "cell_type": "markdown",
   "id": "a2283f44",
   "metadata": {},
   "source": [
    "## Exploratory Data Analysis"
   ]
  },
  {
   "cell_type": "markdown",
   "id": "21f7bd28",
   "metadata": {},
   "source": [
    "Show the ingredient that appear most in the dataset"
   ]
  },
  {
   "cell_type": "code",
   "execution_count": 292,
   "id": "324f3cba",
   "metadata": {},
   "outputs": [
    {
     "data": {
      "image/png": "[encoded data removed]",
      "text/plain": [
       "<Figure size 720x576 with 1 Axes>"
      ]
     },
     "metadata": {
      "needs_background": "light"
     },
     "output_type": "display_data"
    }
   ],
   "source": [
    "# Get the total count of each ingredient across all columns\n",
    "ingredient_counts = df[ingredients].sum().reset_index()\n",
    "ingredient_counts.columns = ['Ingredient', 'Count']\n",
    "\n",
    "# Sort the ingredients by count in descending order\n",
    "ingredient_counts = ingredient_counts.sort_values(by='Count', ascending=False)\n",
    "\n",
    "# Create a bar plot\n",
    "plt.figure(figsize=(10, 8))\n",
    "sns.barplot(x='Count', y='Ingredient', data=ingredient_counts, palette = 'Blues_r')\n",
    "plt.title('Frequency of Ingredients', fontsize=16)\n",
    "plt.xlabel('Count')\n",
    "plt.ylabel('Ingredient')\n",
    "plt.show()"
   ]
  },
  {
   "cell_type": "markdown",
   "id": "13351e79",
   "metadata": {},
   "source": [
    "determine the outlier "
   ]
  },
  {
   "cell_type": "code",
   "execution_count": 293,
   "id": "9fec7053",
   "metadata": {},
   "outputs": [
    {
     "data": {
      "text/plain": [
       "<AxesSubplot:xlabel='price'>"
      ]
     },
     "execution_count": 293,
     "metadata": {},
     "output_type": "execute_result"
    },
    {
     "data": {
      "image/png": "[encoded data removed]",
      "text/plain": [
       "<Figure size 432x288 with 1 Axes>"
      ]
     },
     "metadata": {
      "needs_background": "light"
     },
     "output_type": "display_data"
    }
   ],
   "source": [
    "sns.boxplot(x = 'price', data = df)"
   ]
  },
  {
   "cell_type": "code",
   "execution_count": 294,
   "id": "d624d574",
   "metadata": {},
   "outputs": [
    {
     "data": {
      "text/plain": [
       "<AxesSubplot:xlabel='rating'>"
      ]
     },
     "execution_count": 294,
     "metadata": {},
     "output_type": "execute_result"
    },
    {
     "data": {
      "image/png": "[encoded data removed]",
      "text/plain": [
       "<Figure size 432x288 with 1 Axes>"
      ]
     },
     "metadata": {
      "needs_background": "light"
     },
     "output_type": "display_data"
    }
   ],
   "source": [
    "sns.boxplot(x = 'rating', data = df)"
   ]
  },
  {
   "cell_type": "code",
   "execution_count": 295,
   "id": "b77c04fd",
   "metadata": {},
   "outputs": [
    {
     "data": {
      "text/plain": [
       "<AxesSubplot:xlabel='review'>"
      ]
     },
     "execution_count": 295,
     "metadata": {},
     "output_type": "execute_result"
    },
    {
     "data": {
      "image/png": "[encoded data removed]",
      "text/plain": [
       "<Figure size 432x288 with 1 Axes>"
      ]
     },
     "metadata": {
      "needs_background": "light"
     },
     "output_type": "display_data"
    }
   ],
   "source": [
    "sns.boxplot(x = 'review', data = df)"
   ]
  },
  {
   "cell_type": "markdown",
   "id": "e00c8492",
   "metadata": {},
   "source": [
    "Replace the price with mean since it is right-skewed in order to avoid the extreme cases"
   ]
  },
  {
   "cell_type": "code",
   "execution_count": 296,
   "id": "388c0561",
   "metadata": {},
   "outputs": [
    {
     "name": "stderr",
     "output_type": "stream",
     "text": [
      "/var/folders/w8/dyd2vsws19s7k0p9f9m03yg80000gn/T/ipykernel_74179/3531788644.py:2: SettingWithCopyWarning: \n",
      "A value is trying to be set on a copy of a slice from a DataFrame\n",
      "\n",
      "See the caveats in the documentation: https://pandas.pydata.org/pandas-docs/stable/user_guide/indexing.html#returning-a-view-versus-a-copy\n",
      "  df['price'].fillna(median_price, inplace=True)\n"
     ]
    }
   ],
   "source": [
    "median_price = df['price'].median()\n",
    "df['price'].fillna(median_price, inplace=True)"
   ]
  },
  {
   "cell_type": "code",
   "execution_count": 297,
   "id": "e8b02b99",
   "metadata": {},
   "outputs": [
    {
     "name": "stderr",
     "output_type": "stream",
     "text": [
      "/var/folders/w8/dyd2vsws19s7k0p9f9m03yg80000gn/T/ipykernel_74179/2566686856.py:2: SettingWithCopyWarning: \n",
      "A value is trying to be set on a copy of a slice from a DataFrame\n",
      "\n",
      "See the caveats in the documentation: https://pandas.pydata.org/pandas-docs/stable/user_guide/indexing.html#returning-a-view-versus-a-copy\n",
      "  df['rating'].fillna(median_rating, inplace=True)\n"
     ]
    }
   ],
   "source": [
    "median_rating = df['rating'].median()\n",
    "df['rating'].fillna(median_rating, inplace=True)"
   ]
  },
  {
   "cell_type": "code",
   "execution_count": 298,
   "id": "dc25c13b",
   "metadata": {},
   "outputs": [
    {
     "name": "stderr",
     "output_type": "stream",
     "text": [
      "/var/folders/w8/dyd2vsws19s7k0p9f9m03yg80000gn/T/ipykernel_74179/113449366.py:2: SettingWithCopyWarning: \n",
      "A value is trying to be set on a copy of a slice from a DataFrame\n",
      "\n",
      "See the caveats in the documentation: https://pandas.pydata.org/pandas-docs/stable/user_guide/indexing.html#returning-a-view-versus-a-copy\n",
      "  df['review'].fillna(median_review, inplace=True)\n"
     ]
    }
   ],
   "source": [
    "median_review = df['review'].median()\n",
    "df['review'].fillna(median_review, inplace=True)"
   ]
  },
  {
   "cell_type": "code",
   "execution_count": 214,
   "id": "07c7ebb6",
   "metadata": {},
   "outputs": [
    {
     "data": {
      "image/png": "[encoded data removed]",
      "text/plain": [
       "<Figure size 1152x576 with 1 Axes>"
      ]
     },
     "metadata": {
      "needs_background": "light"
     },
     "output_type": "display_data"
    }
   ],
   "source": [
    "# Count the number of occurrences of each brand\n",
    "brand_counts = df['brand'].value_counts().head(50)\n",
    "\n",
    "# Create a bar plot\n",
    "plt.figure(figsize=(16, 8))\n",
    "sns.barplot(x=brand_counts.index, y=brand_counts.values, palette='Blues_r')\n",
    "plt.xticks(rotation=90)\n",
    "plt.title('Number of Products by Brand', fontsize=16)\n",
    "plt.xlabel('Brand')\n",
    "plt.ylabel('Number of Products')\n",
    "plt.show()"
   ]
  },
  {
   "cell_type": "markdown",
   "id": "a7718988",
   "metadata": {},
   "source": [
    "## Competitor Analysis"
   ]
  },
  {
   "cell_type": "code",
   "execution_count": 215,
   "id": "53326208",
   "metadata": {},
   "outputs": [
    {
     "data": {
      "image/png": "[encoded data removed]",
      "text/plain": [
       "<Figure size 864x432 with 1 Axes>"
      ]
     },
     "metadata": {
      "needs_background": "light"
     },
     "output_type": "display_data"
    }
   ],
   "source": [
    "good_brand = df[df['good_product']==1]['brand'].value_counts().reset_index(name = 'count').rename(columns = {'index':'brand'}).sort_values(by = 'count', ascending = False).head(20)\n",
    "\n",
    "plt.figure(figsize=(12, 6))\n",
    "sns.barplot(x='brand', y='count', data=good_brand, palette = 'Blues_r')\n",
    "plt.title('Top 20 Brands with Good Products', fontsize=16)\n",
    "plt.xlabel('Brand', fontsize=12)\n",
    "plt.ylabel('Count', fontsize=14)\n",
    "plt.xticks(rotation=60)\n",
    "plt.show()"
   ]
  },
  {
   "cell_type": "markdown",
   "id": "24ccf8d9",
   "metadata": {},
   "source": [
    "## Review Prediction"
   ]
  },
  {
   "cell_type": "markdown",
   "id": "2b18abc9",
   "metadata": {},
   "source": [
    "Perform target encoding for categorical variable"
   ]
  },
  {
   "cell_type": "code",
   "execution_count": 299,
   "id": "41b1fe69",
   "metadata": {},
   "outputs": [
    {
     "name": "stderr",
     "output_type": "stream",
     "text": [
      "/var/folders/w8/dyd2vsws19s7k0p9f9m03yg80000gn/T/ipykernel_74179/839353430.py:11: SettingWithCopyWarning: \n",
      "A value is trying to be set on a copy of a slice from a DataFrame.\n",
      "Try using .loc[row_indexer,col_indexer] = value instead\n",
      "\n",
      "See the caveats in the documentation: https://pandas.pydata.org/pandas-docs/stable/user_guide/indexing.html#returning-a-view-versus-a-copy\n",
      "  df[cat_features] = target_encoder.transform(df[cat_features])\n"
     ]
    }
   ],
   "source": [
    "# Define the categorical features to be encoded\n",
    "cat_features = [\"brand\", \"seller\"]\n",
    "\n",
    "# Initialize the target encoder\n",
    "target_encoder = ce.TargetEncoder(cols=cat_features)\n",
    "\n",
    "# Fit the target encoder on the dataset\n",
    "target_encoder.fit(df[cat_features], df[\"review\"])\n",
    "\n",
    "# Transform the categorical features using the target encoder and replace in the original DataFrame\n",
    "df[cat_features] = target_encoder.transform(df[cat_features])"
   ]
  },
  {
   "cell_type": "code",
   "execution_count": 300,
   "id": "5b311fa4",
   "metadata": {},
   "outputs": [
    {
     "data": {
      "text/html": [
       "<div>\n",
       "<style scoped>\n",
       "    .dataframe tbody tr th:only-of-type {\n",
       "        vertical-align: middle;\n",
       "    }\n",
       "\n",
       "    .dataframe tbody tr th {\n",
       "        vertical-align: top;\n",
       "    }\n",
       "\n",
       "    .dataframe thead th {\n",
       "        text-align: right;\n",
       "    }\n",
       "</style>\n",
       "<table border=\"1\" class=\"dataframe\">\n",
       "  <thead>\n",
       "    <tr style=\"text-align: right;\">\n",
       "      <th></th>\n",
       "      <th>title</th>\n",
       "      <th>brand</th>\n",
       "      <th>review</th>\n",
       "      <th>rating</th>\n",
       "      <th>price</th>\n",
       "      <th>category</th>\n",
       "      <th>description</th>\n",
       "      <th>seller</th>\n",
       "      <th>hyaluronic acid</th>\n",
       "      <th>retinol</th>\n",
       "      <th>...</th>\n",
       "      <th>squalane</th>\n",
       "      <th>witch hazel</th>\n",
       "      <th>azelaic acid</th>\n",
       "      <th>vitamin e</th>\n",
       "      <th>vitamin a</th>\n",
       "      <th>benzoyl peroxide</th>\n",
       "      <th>collagen</th>\n",
       "      <th>shea butter</th>\n",
       "      <th>matcha</th>\n",
       "      <th>good_product</th>\n",
       "    </tr>\n",
       "  </thead>\n",
       "  <tbody>\n",
       "    <tr>\n",
       "      <th>0</th>\n",
       "      <td>Tree of Life Vitamin C Serum, Retinol Serum an...</td>\n",
       "      <td>2317.749268</td>\n",
       "      <td>65249.0</td>\n",
       "      <td>4.4</td>\n",
       "      <td>23.95</td>\n",
       "      <td>Face</td>\n",
       "      <td>nan</td>\n",
       "      <td>2274.105397</td>\n",
       "      <td>1</td>\n",
       "      <td>1</td>\n",
       "      <td>...</td>\n",
       "      <td>0</td>\n",
       "      <td>0</td>\n",
       "      <td>0</td>\n",
       "      <td>0</td>\n",
       "      <td>0</td>\n",
       "      <td>0</td>\n",
       "      <td>0</td>\n",
       "      <td>0</td>\n",
       "      <td>0</td>\n",
       "      <td>1</td>\n",
       "    </tr>\n",
       "    <tr>\n",
       "      <th>1</th>\n",
       "      <td>OZNATURALS Hyaluronic Acid Serum for Face - Pl...</td>\n",
       "      <td>612.514413</td>\n",
       "      <td>2437.0</td>\n",
       "      <td>4.4</td>\n",
       "      <td>18.00</td>\n",
       "      <td>Face</td>\n",
       "      <td>nan</td>\n",
       "      <td>612.514413</td>\n",
       "      <td>1</td>\n",
       "      <td>0</td>\n",
       "      <td>...</td>\n",
       "      <td>0</td>\n",
       "      <td>0</td>\n",
       "      <td>0</td>\n",
       "      <td>0</td>\n",
       "      <td>0</td>\n",
       "      <td>0</td>\n",
       "      <td>0</td>\n",
       "      <td>0</td>\n",
       "      <td>0</td>\n",
       "      <td>1</td>\n",
       "    </tr>\n",
       "    <tr>\n",
       "      <th>2</th>\n",
       "      <td>AZURE Hyaluronic Acid &amp; Retinol Anti Aging Fac...</td>\n",
       "      <td>384.894449</td>\n",
       "      <td>592.0</td>\n",
       "      <td>4.4</td>\n",
       "      <td>7.69</td>\n",
       "      <td>Face</td>\n",
       "      <td>nan</td>\n",
       "      <td>384.894449</td>\n",
       "      <td>1</td>\n",
       "      <td>1</td>\n",
       "      <td>...</td>\n",
       "      <td>0</td>\n",
       "      <td>0</td>\n",
       "      <td>0</td>\n",
       "      <td>0</td>\n",
       "      <td>0</td>\n",
       "      <td>0</td>\n",
       "      <td>0</td>\n",
       "      <td>0</td>\n",
       "      <td>0</td>\n",
       "      <td>1</td>\n",
       "    </tr>\n",
       "    <tr>\n",
       "      <th>3</th>\n",
       "      <td>Eva Naturals Vitamin C Serum for Face Plus Hya...</td>\n",
       "      <td>2732.234577</td>\n",
       "      <td>52231.0</td>\n",
       "      <td>4.3</td>\n",
       "      <td>14.99</td>\n",
       "      <td>Face</td>\n",
       "      <td>nan</td>\n",
       "      <td>2732.234577</td>\n",
       "      <td>1</td>\n",
       "      <td>1</td>\n",
       "      <td>...</td>\n",
       "      <td>0</td>\n",
       "      <td>0</td>\n",
       "      <td>0</td>\n",
       "      <td>0</td>\n",
       "      <td>0</td>\n",
       "      <td>0</td>\n",
       "      <td>0</td>\n",
       "      <td>0</td>\n",
       "      <td>0</td>\n",
       "      <td>1</td>\n",
       "    </tr>\n",
       "    <tr>\n",
       "      <th>4</th>\n",
       "      <td>Wishful Hydrate &amp; Glow Trio Gift Set:: Yo Glow...</td>\n",
       "      <td>250.623239</td>\n",
       "      <td>36.0</td>\n",
       "      <td>4.2</td>\n",
       "      <td>32.06</td>\n",
       "      <td>Face</td>\n",
       "      <td>WISHFULHydrate and Glow TrioA must-have set of...</td>\n",
       "      <td>273.321007</td>\n",
       "      <td>1</td>\n",
       "      <td>0</td>\n",
       "      <td>...</td>\n",
       "      <td>0</td>\n",
       "      <td>0</td>\n",
       "      <td>0</td>\n",
       "      <td>0</td>\n",
       "      <td>0</td>\n",
       "      <td>0</td>\n",
       "      <td>1</td>\n",
       "      <td>0</td>\n",
       "      <td>0</td>\n",
       "      <td>0</td>\n",
       "    </tr>\n",
       "    <tr>\n",
       "      <th>...</th>\n",
       "      <td>...</td>\n",
       "      <td>...</td>\n",
       "      <td>...</td>\n",
       "      <td>...</td>\n",
       "      <td>...</td>\n",
       "      <td>...</td>\n",
       "      <td>...</td>\n",
       "      <td>...</td>\n",
       "      <td>...</td>\n",
       "      <td>...</td>\n",
       "      <td>...</td>\n",
       "      <td>...</td>\n",
       "      <td>...</td>\n",
       "      <td>...</td>\n",
       "      <td>...</td>\n",
       "      <td>...</td>\n",
       "      <td>...</td>\n",
       "      <td>...</td>\n",
       "      <td>...</td>\n",
       "      <td>...</td>\n",
       "      <td>...</td>\n",
       "    </tr>\n",
       "    <tr>\n",
       "      <th>9977</th>\n",
       "      <td>Anti Wrinkle Collagen Restoring Serum by Mojo ...</td>\n",
       "      <td>290.132027</td>\n",
       "      <td>35.0</td>\n",
       "      <td>4.2</td>\n",
       "      <td>49.99</td>\n",
       "      <td>Face</td>\n",
       "      <td>nan</td>\n",
       "      <td>284.735797</td>\n",
       "      <td>1</td>\n",
       "      <td>0</td>\n",
       "      <td>...</td>\n",
       "      <td>0</td>\n",
       "      <td>0</td>\n",
       "      <td>0</td>\n",
       "      <td>0</td>\n",
       "      <td>0</td>\n",
       "      <td>0</td>\n",
       "      <td>1</td>\n",
       "      <td>0</td>\n",
       "      <td>0</td>\n",
       "      <td>0</td>\n",
       "    </tr>\n",
       "    <tr>\n",
       "      <th>9978</th>\n",
       "      <td>Deve Herbes Plant Based Vitamin C Face Serum w...</td>\n",
       "      <td>25.000000</td>\n",
       "      <td>25.0</td>\n",
       "      <td>4.4</td>\n",
       "      <td>19.99</td>\n",
       "      <td>Face</td>\n",
       "      <td>Deve Herbes Plant Based Vitamin C Face Serum w...</td>\n",
       "      <td>25.000000</td>\n",
       "      <td>1</td>\n",
       "      <td>0</td>\n",
       "      <td>...</td>\n",
       "      <td>0</td>\n",
       "      <td>0</td>\n",
       "      <td>0</td>\n",
       "      <td>1</td>\n",
       "      <td>1</td>\n",
       "      <td>0</td>\n",
       "      <td>0</td>\n",
       "      <td>0</td>\n",
       "      <td>0</td>\n",
       "      <td>0</td>\n",
       "    </tr>\n",
       "    <tr>\n",
       "      <th>9979</th>\n",
       "      <td>Hhkuize Biolap Aloe Vera Acne Serum Gel, 100% ...</td>\n",
       "      <td>13.826004</td>\n",
       "      <td>1.0</td>\n",
       "      <td>1.0</td>\n",
       "      <td>49.99</td>\n",
       "      <td>Face</td>\n",
       "      <td>nan</td>\n",
       "      <td>15.235812</td>\n",
       "      <td>0</td>\n",
       "      <td>0</td>\n",
       "      <td>...</td>\n",
       "      <td>0</td>\n",
       "      <td>0</td>\n",
       "      <td>0</td>\n",
       "      <td>0</td>\n",
       "      <td>0</td>\n",
       "      <td>0</td>\n",
       "      <td>0</td>\n",
       "      <td>0</td>\n",
       "      <td>0</td>\n",
       "      <td>0</td>\n",
       "    </tr>\n",
       "    <tr>\n",
       "      <th>9980</th>\n",
       "      <td>Tygaz Biovana Skin Serum Anti-Aging Formula - ...</td>\n",
       "      <td>50.244635</td>\n",
       "      <td>4.0</td>\n",
       "      <td>4.3</td>\n",
       "      <td>39.95</td>\n",
       "      <td>Face</td>\n",
       "      <td>Biovana Skin Serum Anti-Aging Formula - 3 Pack</td>\n",
       "      <td>37.530548</td>\n",
       "      <td>0</td>\n",
       "      <td>0</td>\n",
       "      <td>...</td>\n",
       "      <td>0</td>\n",
       "      <td>0</td>\n",
       "      <td>0</td>\n",
       "      <td>0</td>\n",
       "      <td>0</td>\n",
       "      <td>0</td>\n",
       "      <td>0</td>\n",
       "      <td>0</td>\n",
       "      <td>0</td>\n",
       "      <td>0</td>\n",
       "    </tr>\n",
       "    <tr>\n",
       "      <th>9981</th>\n",
       "      <td>skin care facial Brightening serum Vitamin C S...</td>\n",
       "      <td>21.563758</td>\n",
       "      <td>25.0</td>\n",
       "      <td>4.4</td>\n",
       "      <td>19.99</td>\n",
       "      <td>Face</td>\n",
       "      <td>expiration date printed packaging</td>\n",
       "      <td>25.000000</td>\n",
       "      <td>1</td>\n",
       "      <td>0</td>\n",
       "      <td>...</td>\n",
       "      <td>0</td>\n",
       "      <td>0</td>\n",
       "      <td>0</td>\n",
       "      <td>1</td>\n",
       "      <td>0</td>\n",
       "      <td>0</td>\n",
       "      <td>0</td>\n",
       "      <td>0</td>\n",
       "      <td>0</td>\n",
       "      <td>0</td>\n",
       "    </tr>\n",
       "  </tbody>\n",
       "</table>\n",
       "<p>8479 rows × 31 columns</p>\n",
       "</div>"
      ],
      "text/plain": [
       "                                                  title        brand   review  \\\n",
       "0     Tree of Life Vitamin C Serum, Retinol Serum an...  2317.749268  65249.0   \n",
       "1     OZNATURALS Hyaluronic Acid Serum for Face - Pl...   612.514413   2437.0   \n",
       "2     AZURE Hyaluronic Acid & Retinol Anti Aging Fac...   384.894449    592.0   \n",
       "3     Eva Naturals Vitamin C Serum for Face Plus Hya...  2732.234577  52231.0   \n",
       "4     Wishful Hydrate & Glow Trio Gift Set:: Yo Glow...   250.623239     36.0   \n",
       "...                                                 ...          ...      ...   \n",
       "9977  Anti Wrinkle Collagen Restoring Serum by Mojo ...   290.132027     35.0   \n",
       "9978  Deve Herbes Plant Based Vitamin C Face Serum w...    25.000000     25.0   \n",
       "9979  Hhkuize Biolap Aloe Vera Acne Serum Gel, 100% ...    13.826004      1.0   \n",
       "9980  Tygaz Biovana Skin Serum Anti-Aging Formula - ...    50.244635      4.0   \n",
       "9981  skin care facial Brightening serum Vitamin C S...    21.563758     25.0   \n",
       "\n",
       "      rating  price category  \\\n",
       "0        4.4  23.95     Face   \n",
       "1        4.4  18.00     Face   \n",
       "2        4.4   7.69     Face   \n",
       "3        4.3  14.99     Face   \n",
       "4        4.2  32.06     Face   \n",
       "...      ...    ...      ...   \n",
       "9977     4.2  49.99     Face   \n",
       "9978     4.4  19.99     Face   \n",
       "9979     1.0  49.99     Face   \n",
       "9980     4.3  39.95     Face   \n",
       "9981     4.4  19.99     Face   \n",
       "\n",
       "                                            description       seller  \\\n",
       "0                                                   nan  2274.105397   \n",
       "1                                                   nan   612.514413   \n",
       "2                                                   nan   384.894449   \n",
       "3                                                   nan  2732.234577   \n",
       "4     WISHFULHydrate and Glow TrioA must-have set of...   273.321007   \n",
       "...                                                 ...          ...   \n",
       "9977                                                nan   284.735797   \n",
       "9978  Deve Herbes Plant Based Vitamin C Face Serum w...    25.000000   \n",
       "9979                                                nan    15.235812   \n",
       "9980     Biovana Skin Serum Anti-Aging Formula - 3 Pack    37.530548   \n",
       "9981                  expiration date printed packaging    25.000000   \n",
       "\n",
       "      hyaluronic acid  retinol  ...  squalane  witch hazel  azelaic acid  \\\n",
       "0                   1        1  ...         0            0             0   \n",
       "1                   1        0  ...         0            0             0   \n",
       "2                   1        1  ...         0            0             0   \n",
       "3                   1        1  ...         0            0             0   \n",
       "4                   1        0  ...         0            0             0   \n",
       "...               ...      ...  ...       ...          ...           ...   \n",
       "9977                1        0  ...         0            0             0   \n",
       "9978                1        0  ...         0            0             0   \n",
       "9979                0        0  ...         0            0             0   \n",
       "9980                0        0  ...         0            0             0   \n",
       "9981                1        0  ...         0            0             0   \n",
       "\n",
       "      vitamin e  vitamin a  benzoyl peroxide  collagen  shea butter  matcha  \\\n",
       "0             0          0                 0         0            0       0   \n",
       "1             0          0                 0         0            0       0   \n",
       "2             0          0                 0         0            0       0   \n",
       "3             0          0                 0         0            0       0   \n",
       "4             0          0                 0         1            0       0   \n",
       "...         ...        ...               ...       ...          ...     ...   \n",
       "9977          0          0                 0         1            0       0   \n",
       "9978          1          1                 0         0            0       0   \n",
       "9979          0          0                 0         0            0       0   \n",
       "9980          0          0                 0         0            0       0   \n",
       "9981          1          0                 0         0            0       0   \n",
       "\n",
       "      good_product  \n",
       "0                1  \n",
       "1                1  \n",
       "2                1  \n",
       "3                1  \n",
       "4                0  \n",
       "...            ...  \n",
       "9977             0  \n",
       "9978             0  \n",
       "9979             0  \n",
       "9980             0  \n",
       "9981             0  \n",
       "\n",
       "[8479 rows x 31 columns]"
      ]
     },
     "execution_count": 300,
     "metadata": {},
     "output_type": "execute_result"
    }
   ],
   "source": [
    "df"
   ]
  },
  {
   "cell_type": "markdown",
   "id": "ae38ed67",
   "metadata": {},
   "source": [
    "## Perform the Decision Tree Regression"
   ]
  },
  {
   "cell_type": "code",
   "execution_count": 301,
   "id": "afa86e73",
   "metadata": {},
   "outputs": [],
   "source": [
    "X = df[df.columns.difference(['review','rating','description','title','category','glycolic acid','good_product'])]\n",
    "y = df.good_product\n",
    "\n",
    "\n",
    "#split training and test set\n",
    "X_train, X_test, y_train, y_test = train_test_split(X, y, test_size = 0.33, random_state = 42, stratify=y)"
   ]
  },
  {
   "cell_type": "code",
   "execution_count": 302,
   "id": "4faef367",
   "metadata": {},
   "outputs": [],
   "source": [
    "from sklearn import tree\n",
    "\n",
    "#define classification algorithm\n",
    "clf_tree = tree.DecisionTreeClassifier(max_depth = 3, criterion='entropy')\n",
    "clf_tree = clf_tree.fit(X_train, y_train)\n",
    "\n",
    "y_pred_tree = clf_tree.predict(X_test)"
   ]
  },
  {
   "cell_type": "code",
   "execution_count": 303,
   "id": "7a7fcf8c",
   "metadata": {},
   "outputs": [
    {
     "name": "stdout",
     "output_type": "stream",
     "text": [
      "[[2402  100]\n",
      " [  76  221]]\n"
     ]
    },
    {
     "data": {
      "image/png": "[encoded data removed]",
      "text/plain": [
       "<Figure size 576x432 with 2 Axes>"
      ]
     },
     "metadata": {
      "needs_background": "light"
     },
     "output_type": "display_data"
    }
   ],
   "source": [
    "from sklearn.metrics import confusion_matrix\n",
    "confusion_mat = confusion_matrix(y_test, y_pred_tree)\n",
    "print(confusion_mat)\n",
    "\n",
    "# Create a heatmap\n",
    "plt.figure(figsize=(8, 6))\n",
    "sns.heatmap(confusion_mat, annot=True, fmt='d', cmap='Blues',annot_kws={\"size\": 14})\n",
    "\n",
    "plt.xlabel('Predicted', fontsize = 14)\n",
    "plt.ylabel('Actual', fontsize = 14)\n",
    "plt.title('Confusion Matrix for Decision Tree Model', fontsize = 14)\n",
    "\n",
    "# Show the plot\n",
    "plt.show()"
   ]
  },
  {
   "cell_type": "code",
   "execution_count": 304,
   "id": "c97a1b15",
   "metadata": {},
   "outputs": [
    {
     "name": "stdout",
     "output_type": "stream",
     "text": [
      "              precision    recall  f1-score   support\n",
      "\n",
      "           0       0.97      0.96      0.96      2502\n",
      "           1       0.69      0.74      0.72       297\n",
      "\n",
      "    accuracy                           0.94      2799\n",
      "   macro avg       0.83      0.85      0.84      2799\n",
      "weighted avg       0.94      0.94      0.94      2799\n",
      "\n"
     ]
    }
   ],
   "source": [
    "from sklearn.metrics import classification_report\n",
    "print(classification_report(y_test, y_pred_tree))"
   ]
  },
  {
   "cell_type": "markdown",
   "id": "06464cd6",
   "metadata": {},
   "source": [
    "## ROC-AUC curve"
   ]
  },
  {
   "cell_type": "code",
   "execution_count": 305,
   "id": "8da3d4c9",
   "metadata": {},
   "outputs": [
    {
     "data": {
      "image/png": "[encoded data removed]",
      "text/plain": [
       "<Figure size 576x432 with 1 Axes>"
      ]
     },
     "metadata": {
      "needs_background": "light"
     },
     "output_type": "display_data"
    },
    {
     "name": "stdout",
     "output_type": "stream",
     "text": [
      "AUC score:  0.951249101728718\n"
     ]
    }
   ],
   "source": [
    "# Predict probabilities for X_test\n",
    "y_pred_prob_tree = clf_tree.predict_proba(X_test)[:, 1]\n",
    "\n",
    "# Calculate ROC curve and AUC score\n",
    "fpr, tpr, thresholds = roc_curve(y_test, y_pred_prob_tree)\n",
    "roc_auc = auc(fpr, tpr)\n",
    "\n",
    "# Plot ROC curve\n",
    "plt.figure(figsize=(8, 6))\n",
    "plt.plot(fpr, tpr, label='Decision Tree (area = %0.2f)' % roc_auc)\n",
    "plt.plot([0, 1], [0, 1], 'k--')\n",
    "plt.xlim([0.0, 1.0])\n",
    "plt.ylim([0.0, 1.05])\n",
    "plt.xlabel('False Positive Rate')\n",
    "plt.ylabel('True Positive Rate')\n",
    "plt.title('Receiver Operating Characteristic (ROC) Curve')\n",
    "plt.legend(loc=\"lower right\")\n",
    "plt.show()\n",
    "\n",
    "print(\"AUC score: \", roc_auc_score(y_test, y_pred_prob_tree))"
   ]
  },
  {
   "cell_type": "markdown",
   "id": "47b873f2",
   "metadata": {},
   "source": [
    "### Feature Importance"
   ]
  },
  {
   "cell_type": "code",
   "execution_count": 306,
   "id": "d00aae87",
   "metadata": {},
   "outputs": [],
   "source": [
    "# The columns used for fitting the model\n",
    "feature_columns = X_train.columns"
   ]
  },
  {
   "cell_type": "code",
   "execution_count": 307,
   "id": "0ee34b56",
   "metadata": {},
   "outputs": [
    {
     "data": {
      "text/plain": [
       "seller          0.847063\n",
       "brand           0.131528\n",
       "price           0.021409\n",
       "retinol         0.000000\n",
       "vitamin e       0.000000\n",
       "vitamin c       0.000000\n",
       "vitamin a       0.000000\n",
       "tea tree oil    0.000000\n",
       "squalane        0.000000\n",
       "shea butter     0.000000\n",
       "dtype: float64"
      ]
     },
     "execution_count": 307,
     "metadata": {},
     "output_type": "execute_result"
    }
   ],
   "source": [
    "feature_imp_tree = pd.Series(clf_tree.feature_importances_, index = feature_columns.to_list()).sort_values(ascending=False)[:10]\n",
    "feature_imp_tree"
   ]
  },
  {
   "cell_type": "code",
   "execution_count": 324,
   "id": "2afabcec",
   "metadata": {},
   "outputs": [
    {
     "name": "stderr",
     "output_type": "stream",
     "text": [
      "No artists with labels found to put in legend.  Note that artists whose label start with an underscore are ignored when legend() is called with no argument.\n"
     ]
    },
    {
     "data": {
      "image/png": "[encoded data removed]",
      "text/plain": [
       "<Figure size 504x360 with 1 Axes>"
      ]
     },
     "metadata": {
      "needs_background": "light"
     },
     "output_type": "display_data"
    }
   ],
   "source": [
    "plt.figure(figsize=(7, 5))\n",
    "sns.barplot(x=feature_imp_tree, y=feature_imp_tree.index, palette = 'Blues_r')\n",
    "# Add labels to your graph\n",
    "plt.xlabel('Feature Importance Score', fontsize = 15)\n",
    "plt.ylabel('Features', fontsize = 15)\n",
    "plt.title(\"Visualizing Important Features For Decsion Tree\", fontsize = 15)\n",
    "plt.legend()\n",
    "plt.show()"
   ]
  },
  {
   "cell_type": "code",
   "execution_count": 309,
   "id": "68e3dd1d",
   "metadata": {},
   "outputs": [
    {
     "data": {
      "image/png": "[encoded data removed]",
      "text/plain": [
       "<Figure size 1080x720 with 1 Axes>"
      ]
     },
     "metadata": {
      "needs_background": "light"
     },
     "output_type": "display_data"
    }
   ],
   "source": [
    "#plotting the decision tree\n",
    "# Create a heatmap\n",
    "plt.figure(figsize=(15, 10))\n",
    "feature_columns = X_train.columns\n",
    "feature_names = feature_columns.to_list()\n",
    "class_names = ['1','0']\n",
    "tree.plot_tree(clf_tree, filled=True, rounded=True, class_names=class_names, feature_names=feature_names)\n",
    "plt.show()"
   ]
  },
  {
   "cell_type": "markdown",
   "id": "09760f6b",
   "metadata": {},
   "source": [
    "## Perform the XGBoost Regression"
   ]
  },
  {
   "cell_type": "code",
   "execution_count": 310,
   "id": "f5a1cfdc",
   "metadata": {},
   "outputs": [
    {
     "name": "stdout",
     "output_type": "stream",
     "text": [
      "[0]\tvalidation_0-logloss:0.61461\n",
      "[1]\tvalidation_0-logloss:0.55016\n",
      "[2]\tvalidation_0-logloss:0.49658\n",
      "[3]\tvalidation_0-logloss:0.45113\n",
      "[4]\tvalidation_0-logloss:0.41259\n",
      "[5]\tvalidation_0-logloss:0.37944\n",
      "[6]\tvalidation_0-logloss:0.35083\n",
      "[7]\tvalidation_0-logloss:0.32594\n",
      "[8]\tvalidation_0-logloss:0.30419\n",
      "[9]\tvalidation_0-logloss:0.28518\n",
      "[10]\tvalidation_0-logloss:0.26862\n",
      "[11]\tvalidation_0-logloss:0.25399\n",
      "[12]\tvalidation_0-logloss:0.24124\n",
      "[13]\tvalidation_0-logloss:0.22990\n",
      "[14]\tvalidation_0-logloss:0.21977\n",
      "[15]\tvalidation_0-logloss:0.21077\n",
      "[16]\tvalidation_0-logloss:0.20290\n",
      "[17]\tvalidation_0-logloss:0.19602\n",
      "[18]\tvalidation_0-logloss:0.18982\n",
      "[19]\tvalidation_0-logloss:0.18437\n",
      "[20]\tvalidation_0-logloss:0.18005\n"
     ]
    },
    {
     "name": "stderr",
     "output_type": "stream",
     "text": [
      "/Users/tj/opt/anaconda3/lib/python3.9/site-packages/xgboost/sklearn.py:835: UserWarning: `early_stopping_rounds` in `fit` method is deprecated for better compatibility with scikit-learn, use `early_stopping_rounds` in constructor or`set_params` instead.\n",
      "  warnings.warn(\n"
     ]
    },
    {
     "name": "stdout",
     "output_type": "stream",
     "text": [
      "[21]\tvalidation_0-logloss:0.17580\n",
      "[22]\tvalidation_0-logloss:0.17206\n",
      "[23]\tvalidation_0-logloss:0.16893\n",
      "[24]\tvalidation_0-logloss:0.16582\n",
      "[25]\tvalidation_0-logloss:0.16328\n",
      "[26]\tvalidation_0-logloss:0.16101\n",
      "[27]\tvalidation_0-logloss:0.15888\n",
      "[28]\tvalidation_0-logloss:0.15732\n",
      "[29]\tvalidation_0-logloss:0.15565\n",
      "[30]\tvalidation_0-logloss:0.15399\n",
      "[31]\tvalidation_0-logloss:0.15262\n",
      "[32]\tvalidation_0-logloss:0.15145\n",
      "[33]\tvalidation_0-logloss:0.15033\n",
      "[34]\tvalidation_0-logloss:0.14938\n",
      "[35]\tvalidation_0-logloss:0.14868\n",
      "[36]\tvalidation_0-logloss:0.14786\n",
      "[37]\tvalidation_0-logloss:0.14722\n",
      "[38]\tvalidation_0-logloss:0.14661\n",
      "[39]\tvalidation_0-logloss:0.14610\n",
      "[40]\tvalidation_0-logloss:0.14566\n",
      "[41]\tvalidation_0-logloss:0.14525\n",
      "[42]\tvalidation_0-logloss:0.14500\n",
      "[43]\tvalidation_0-logloss:0.14455\n",
      "[44]\tvalidation_0-logloss:0.14420\n",
      "[45]\tvalidation_0-logloss:0.14394\n",
      "[46]\tvalidation_0-logloss:0.14390\n",
      "[47]\tvalidation_0-logloss:0.14359\n",
      "[48]\tvalidation_0-logloss:0.14345\n",
      "[49]\tvalidation_0-logloss:0.14350\n",
      "[50]\tvalidation_0-logloss:0.14351\n",
      "[51]\tvalidation_0-logloss:0.14349\n",
      "[52]\tvalidation_0-logloss:0.14354\n",
      "[53]\tvalidation_0-logloss:0.14356\n",
      "[54]\tvalidation_0-logloss:0.14370\n",
      "[55]\tvalidation_0-logloss:0.14378\n",
      "[56]\tvalidation_0-logloss:0.14374\n",
      "[57]\tvalidation_0-logloss:0.14366\n"
     ]
    },
    {
     "data": {
      "text/plain": [
       "XGBClassifier(base_score=None, booster=None, callbacks=None,\n",
       "              colsample_bylevel=None, colsample_bynode=None,\n",
       "              colsample_bytree=None, early_stopping_rounds=None,\n",
       "              enable_categorical=False, eval_metric='logloss',\n",
       "              feature_types=None, gamma=None, gpu_id=None, grow_policy=None,\n",
       "              importance_type=None, interaction_constraints=None,\n",
       "              learning_rate=0.1, max_bin=None, max_cat_threshold=None,\n",
       "              max_cat_to_onehot=None, max_delta_step=None, max_depth=5,\n",
       "              max_leaves=None, min_child_weight=None, missing=nan,\n",
       "              monotone_constraints=None, n_estimators=5000, n_jobs=None,\n",
       "              num_parallel_tree=None, predictor=None, random_state=None, ...)"
      ]
     },
     "execution_count": 310,
     "metadata": {},
     "output_type": "execute_result"
    }
   ],
   "source": [
    "clf_xgb = XGBClassifier(objective = 'binary:logistic', \n",
    "                        eval_metric = 'logloss',\n",
    "                        learning_rate = 0.1, \n",
    "                        max_depth = 5, \n",
    "                        n_estimators = 5000, \n",
    "                        verbosity = 1,\n",
    "                        seed = 42)\n",
    "\n",
    "clf_xgb.fit(X_train, y_train, verbose = True, early_stopping_rounds = 10, eval_set = [(X_test, y_test)])"
   ]
  },
  {
   "cell_type": "code",
   "execution_count": 311,
   "id": "23d64fa2",
   "metadata": {},
   "outputs": [
    {
     "name": "stdout",
     "output_type": "stream",
     "text": [
      "[[2414   88]\n",
      " [  71  226]]\n"
     ]
    },
    {
     "data": {
      "image/png": "[encoded data removed]",
      "text/plain": [
       "<Figure size 576x432 with 2 Axes>"
      ]
     },
     "metadata": {
      "needs_background": "light"
     },
     "output_type": "display_data"
    }
   ],
   "source": [
    "from sklearn.metrics import confusion_matrix\n",
    "\n",
    "# Generate predictions\n",
    "y_pred_xgb = clf_xgb.predict(X_test)\n",
    "\n",
    "# Calculate the confusion matrix\n",
    "conf_matrix_xgb = confusion_matrix(y_test, y_pred_xgb)\n",
    "\n",
    "# Print the confusion matrix\n",
    "print(conf_matrix_xgb)\n",
    "\n",
    "# Create a heatmap\n",
    "plt.figure(figsize=(8, 6))\n",
    "sns.heatmap(conf_matrix_xgb, annot=True, fmt='d', cmap='Blues', annot_kws={\"size\": 14})\n",
    "\n",
    "# Add labels and title\n",
    "plt.xlabel('Predicted', fontsize = 14)\n",
    "plt.ylabel('Actual' , fontsize = 14)\n",
    "plt.title('Confusion Matrix for XgBoost' , fontsize = 14)\n",
    "\n",
    "# Show the plot\n",
    "plt.show()"
   ]
  },
  {
   "cell_type": "code",
   "execution_count": 312,
   "id": "0b09347b",
   "metadata": {},
   "outputs": [
    {
     "name": "stdout",
     "output_type": "stream",
     "text": [
      "              precision    recall  f1-score   support\n",
      "\n",
      "           0       0.97      0.96      0.97      2502\n",
      "           1       0.72      0.76      0.74       297\n",
      "\n",
      "    accuracy                           0.94      2799\n",
      "   macro avg       0.85      0.86      0.85      2799\n",
      "weighted avg       0.94      0.94      0.94      2799\n",
      "\n"
     ]
    }
   ],
   "source": [
    "from sklearn.metrics import classification_report\n",
    "print(classification_report(y_test, y_pred_xgb))"
   ]
  },
  {
   "cell_type": "markdown",
   "id": "0b57decf",
   "metadata": {},
   "source": [
    "## ROC-AUC Curve"
   ]
  },
  {
   "cell_type": "code",
   "execution_count": 313,
   "id": "4482c04f",
   "metadata": {},
   "outputs": [
    {
     "data": {
      "image/png": "[encoded data removed]",
      "text/plain": [
       "<Figure size 576x432 with 1 Axes>"
      ]
     },
     "metadata": {
      "needs_background": "light"
     },
     "output_type": "display_data"
    },
    {
     "name": "stdout",
     "output_type": "stream",
     "text": [
      "AUC score:  0.9626917994224149\n"
     ]
    }
   ],
   "source": [
    "# Predict probabilities for X_test\n",
    "y_pred_prob_xgb = clf_xgb.predict_proba(X_test)[:, 1]\n",
    "\n",
    "# Calculate ROC curve and AUC score\n",
    "fpr, tpr, thresholds = roc_curve(y_test, y_pred_prob_xgb)\n",
    "roc_auc = auc(fpr, tpr)\n",
    "\n",
    "# Plot ROC curve\n",
    "plt.figure(figsize=(8, 6))\n",
    "plt.plot(fpr, tpr, label='XGBoost (area = %0.2f)' % roc_auc)\n",
    "plt.plot([0, 1], [0, 1], 'k--')\n",
    "plt.xlim([0.0, 1.0])\n",
    "plt.ylim([0.0, 1.05])\n",
    "plt.xlabel('False Positive Rate')\n",
    "plt.ylabel('True Positive Rate')\n",
    "plt.title('Receiver Operating Characteristic (ROC) Curve')\n",
    "plt.legend(loc=\"lower right\")\n",
    "plt.show()\n",
    "\n",
    "print(\"AUC score: \", roc_auc_score(y_test, y_pred_prob_xgb))"
   ]
  },
  {
   "cell_type": "markdown",
   "id": "aacfb515",
   "metadata": {},
   "source": [
    "## Feature Importance"
   ]
  },
  {
   "cell_type": "code",
   "execution_count": 314,
   "id": "254c9136",
   "metadata": {},
   "outputs": [
    {
     "data": {
      "text/plain": [
       "seller             0.470496\n",
       "brand              0.102624\n",
       "price              0.062373\n",
       "vitamin c          0.056945\n",
       "salicylic acid     0.049011\n",
       "niacinamide        0.039940\n",
       "hyaluronic acid    0.039232\n",
       "aloe vera          0.036367\n",
       "vitamin e          0.035778\n",
       "collagen           0.032008\n",
       "dtype: float32"
      ]
     },
     "execution_count": 314,
     "metadata": {},
     "output_type": "execute_result"
    }
   ],
   "source": [
    "feature_imp_xgb = pd.Series(clf_xgb.feature_importances_, index = feature_columns.to_list()).sort_values(ascending=False)[:10]\n",
    "feature_imp_xgb"
   ]
  },
  {
   "cell_type": "code",
   "execution_count": 323,
   "id": "5ee9b029",
   "metadata": {},
   "outputs": [
    {
     "name": "stderr",
     "output_type": "stream",
     "text": [
      "No artists with labels found to put in legend.  Note that artists whose label start with an underscore are ignored when legend() is called with no argument.\n"
     ]
    },
    {
     "data": {
      "image/png": "[encoded data removed]",
      "text/plain": [
       "<Figure size 504x360 with 1 Axes>"
      ]
     },
     "metadata": {
      "needs_background": "light"
     },
     "output_type": "display_data"
    }
   ],
   "source": [
    "plt.figure(figsize=(7, 5))\n",
    "sns.barplot(x=feature_imp_xgb, y=feature_imp_xgb.index, palette = 'Blues_r')\n",
    "# Add labels to your graph\n",
    "plt.xlabel('Feature Importance Score', fontsize = 15)\n",
    "plt.ylabel('Features', fontsize = 15)\n",
    "plt.title(\"Visualizing Important Features For XGBoost\", fontsize = 15)\n",
    "plt.legend()\n",
    "plt.show()"
   ]
  },
  {
   "cell_type": "code",
   "execution_count": 316,
   "id": "14ebb6f6",
   "metadata": {},
   "outputs": [],
   "source": [
    "from sklearn.ensemble import RandomForestClassifier\n",
    "  \n",
    " # create regressor object\n",
    "clf_rdm = RandomForestClassifier(n_estimators = 100, random_state = 42)\n",
    "  \n",
    "# fit the regressor with x and y data\n",
    "clf_rdm = clf_rdm.fit(X_train, y_train)  \n",
    "\n",
    "y_pred_rdm = clf_rdm.predict(X_test)"
   ]
  },
  {
   "cell_type": "code",
   "execution_count": 317,
   "id": "3e398f13",
   "metadata": {},
   "outputs": [
    {
     "name": "stdout",
     "output_type": "stream",
     "text": [
      "[[2425   77]\n",
      " [  90  207]]\n"
     ]
    },
    {
     "data": {
      "image/png": "[encoded data removed]",
      "text/plain": [
       "<Figure size 576x432 with 2 Axes>"
      ]
     },
     "metadata": {
      "needs_background": "light"
     },
     "output_type": "display_data"
    }
   ],
   "source": [
    "from sklearn.metrics import confusion_matrix\n",
    "confusion_matrix_rdm = confusion_matrix(y_test, y_pred_rdm)\n",
    "print(confusion_matrix_rdm)\n",
    "\n",
    "# Create a heatmap\n",
    "plt.figure(figsize=(8, 6))\n",
    "sns.heatmap(confusion_matrix_rdm, annot=True, fmt='d', cmap='Blues',annot_kws={\"size\": 14})\n",
    "\n",
    "# Add labels and title\n",
    "plt.xlabel('Predicted', fontsize = 14)\n",
    "plt.ylabel('Actual', fontsize = 14)\n",
    "plt.title('Confusion Matrix for Random Forest', fontsize = 14)\n",
    "\n",
    "# Show the plot\n",
    "plt.show()"
   ]
  },
  {
   "cell_type": "code",
   "execution_count": 318,
   "id": "4904ad07",
   "metadata": {},
   "outputs": [
    {
     "name": "stdout",
     "output_type": "stream",
     "text": [
      "              precision    recall  f1-score   support\n",
      "\n",
      "           0       0.96      0.97      0.97      2502\n",
      "           1       0.73      0.70      0.71       297\n",
      "\n",
      "    accuracy                           0.94      2799\n",
      "   macro avg       0.85      0.83      0.84      2799\n",
      "weighted avg       0.94      0.94      0.94      2799\n",
      "\n"
     ]
    }
   ],
   "source": [
    "from sklearn.metrics import classification_report\n",
    "print(classification_report(y_test, y_pred_rdm))"
   ]
  },
  {
   "cell_type": "markdown",
   "id": "798e5b42",
   "metadata": {},
   "source": [
    "## ROC-AUC Curve"
   ]
  },
  {
   "cell_type": "code",
   "execution_count": 319,
   "id": "4c7fb0af",
   "metadata": {},
   "outputs": [
    {
     "data": {
      "image/png": "[encoded data removed]",
      "text/plain": [
       "<Figure size 576x432 with 1 Axes>"
      ]
     },
     "metadata": {
      "needs_background": "light"
     },
     "output_type": "display_data"
    },
    {
     "name": "stdout",
     "output_type": "stream",
     "text": [
      "AUC score:  0.9548677556271481\n"
     ]
    }
   ],
   "source": [
    "# Predict probabilities for X_test\n",
    "y_pred_prob_rdm = clf_rdm.predict_proba(X_test)[:, 1]\n",
    "\n",
    "# Calculate ROC curve and AUC score\n",
    "fpr, tpr, thresholds = roc_curve(y_test, y_pred_prob_rdm)\n",
    "roc_auc = auc(fpr, tpr)\n",
    "\n",
    "# Plot ROC curve\n",
    "plt.figure(figsize=(8, 6))\n",
    "plt.plot(fpr, tpr, label='Random Forest (area = %0.2f)' % roc_auc)\n",
    "plt.plot([0, 1], [0, 1], 'k--')\n",
    "plt.xlim([0.0, 1.0])\n",
    "plt.ylim([0.0, 1.05])\n",
    "plt.xlabel('False Positive Rate')\n",
    "plt.ylabel('True Positive Rate')\n",
    "plt.title('Receiver Operating Characteristic (ROC) Curve')\n",
    "plt.legend(loc=\"lower right\")\n",
    "plt.show()\n",
    "\n",
    "print(\"AUC score: \", roc_auc_score(y_test, y_pred_prob_rdm))"
   ]
  },
  {
   "cell_type": "code",
   "execution_count": 320,
   "id": "d5e7a9a4",
   "metadata": {},
   "outputs": [
    {
     "data": {
      "text/plain": [
       "seller             0.366596\n",
       "brand              0.354242\n",
       "price              0.180081\n",
       "hyaluronic acid    0.013451\n",
       "vitamin c          0.012638\n",
       "retinol            0.010683\n",
       "collagen           0.010045\n",
       "niacinamide        0.008533\n",
       "vitamin e          0.007505\n",
       "peptides           0.005390\n",
       "dtype: float64"
      ]
     },
     "execution_count": 320,
     "metadata": {},
     "output_type": "execute_result"
    }
   ],
   "source": [
    "feature_imp_rdm = pd.Series(clf_rdm.feature_importances_,index=cols[~cols.isin(['review','rating','description','title','category','good_product','glycolic acid'])].to_list()).sort_values(ascending=False)[:10]\n",
    "feature_imp_rdm"
   ]
  },
  {
   "cell_type": "code",
   "execution_count": 322,
   "id": "3f0477fa",
   "metadata": {},
   "outputs": [
    {
     "name": "stderr",
     "output_type": "stream",
     "text": [
      "No artists with labels found to put in legend.  Note that artists whose label start with an underscore are ignored when legend() is called with no argument.\n"
     ]
    },
    {
     "data": {
      "image/png": "[encoded data removed]",
      "text/plain": [
       "<Figure size 504x360 with 1 Axes>"
      ]
     },
     "metadata": {
      "needs_background": "light"
     },
     "output_type": "display_data"
    }
   ],
   "source": [
    "plt.figure(figsize=(7, 5))\n",
    "sns.barplot(x=feature_imp_rdm, y=feature_imp_rdm.index, palette = 'Blues_r')\n",
    "# Add labels to your graph\n",
    "plt.xlabel('Feature Importance Score', fontsize = 15)\n",
    "plt.ylabel('Features', fontsize = 15)\n",
    "plt.title(\"Visualizing Important Features for Random Forest\", fontsize = 15)\n",
    "plt.legend()\n",
    "plt.show()"
   ]
  }
 ],
 "metadata": {
  "kernelspec": {
   "display_name": "Python 3 (ipykernel)",
   "language": "python",
   "name": "python3"
  },
  "language_info": {
   "codemirror_mode": {
    "name": "ipython",
    "version": 3
   },
   "file_extension": ".py",
   "mimetype": "text/x-python",
   "name": "python",
   "nbconvert_exporter": "python",
   "pygments_lexer": "ipython3",
   "version": "3.9.12"
  }
 },
 "nbformat": 4,
 "nbformat_minor": 5
}
